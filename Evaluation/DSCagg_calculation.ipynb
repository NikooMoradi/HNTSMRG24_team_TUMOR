{
 "cells": [
  {
   "cell_type": "markdown",
   "metadata": {},
   "source": [
    "# DSCagg Calculation Example for HNTS-MRG 2024\n",
    "\n",
    "This notebook demonstrates how to calculate the evaluation metric (aggregated Dice Similarity coefficient - DSCagg) for [HNTS-MRG 2024 Challenge](https://hntsmrg24.grand-challenge.org/). More information on the evaluation can be found [here](https://hntsmrg24.grand-challenge.org/tasks-and-evaluation/). The evaluation functions are encapsulated in a Docker container image which will be run on the outputs of participants' submitted algorithms. \n",
    "\n",
    "This specific example in this notebook uses a subset of masks from the HNTS-MRG 2024 training dataset, available on [Zenodo](https://zenodo.org/records/11199559). We use 20 out of 150 training case masks for this example (just as a proof of concept).\n",
    "\n",
    "Credit to the HECKTOR 2022 organizers; most of this code is directly based on their [GitHub implementations](https://github.com/voreille/hecktor/blob/master/notebooks/evaluate_segmentation2022.ipynb).\n",
    "\n",
    "## Table of Contents\n",
    "\n",
    "1. [Imports](#Imports)\n",
    "2. [Functions](#Functions)\n",
    "3. [DSCagg Calculation](#dscagg-calculation)\n",
    "4. [Extra: Conventional DSC Calculation](#extra-conventional-dsc-calculation)"
   ]
  },
  {
   "cell_type": "markdown",
   "metadata": {},
   "source": [
    "## Imports"
   ]
  },
  {
   "cell_type": "code",
   "execution_count": null,
   "metadata": {},
   "outputs": [],
   "source": [
    "import SimpleITK as sitk\n",
    "import os\n",
    "import numpy as np\n",
    "import json"
   ]
  },
  {
   "cell_type": "code",
   "execution_count": null,
   "metadata": {},
   "outputs": [],
   "source": [
    "# Adjust these paths and dataset name as needed\n",
    "output_json_path = '/homes/nmoradi/test/Dice_summary.json'  \n",
    "dataset_name = 'midRT_medNext_517'\n",
    "\n",
    "prediction_folder = '/homes/nmoradi/test/evaluation/predicted_midRT_517_MedNext/predictions_all_hntsmrg_format'\n",
    "groundtruth_folder = '/homes/nmoradi/test/evaluation/ground_truth_midRT'"
   ]
  },
  {
   "cell_type": "markdown",
   "metadata": {},
   "source": [
    "## Functions"
   ]
  },
  {
   "cell_type": "code",
   "execution_count": null,
   "metadata": {},
   "outputs": [],
   "source": [
    "def compute_volumes(im):\n",
    "    \"\"\"\n",
    "    Compute the volumes of the GTVp and the GTVn\n",
    "    \"\"\"\n",
    "    spacing = im.GetSpacing()\n",
    "    voxvol = spacing[0] * spacing[1] * spacing[2]\n",
    "    stats = sitk.LabelStatisticsImageFilter()\n",
    "    stats.Execute(im, im)\n",
    "    nvoxels1 = stats.GetCount(1)\n",
    "    nvoxels2 = stats.GetCount(2)\n",
    "    return nvoxels1 * voxvol, nvoxels2 * voxvol\n",
    "\n",
    "def compute_agg_dice(intermediate_results):\n",
    "    \"\"\"\n",
    "    Compute the aggregate dice score from the intermediate results\n",
    "    \"\"\"\n",
    "    aggregate_results = {}\n",
    "    TP1s = [v[\"TP1\"] for v in intermediate_results]\n",
    "    TP2s = [v[\"TP2\"] for v in intermediate_results]\n",
    "    vol_sum1s = [v[\"vol_sum1\"] for v in intermediate_results]\n",
    "    vol_sum2s = [v[\"vol_sum2\"] for v in intermediate_results]\n",
    "    DSCagg1 = 2 * np.sum(TP1s) / np.sum(vol_sum1s)\n",
    "    DSCagg2 = 2 * np.sum(TP2s) / np.sum(vol_sum2s)\n",
    "    aggregate_results['AggregatedDsc'] = {\n",
    "        'GTVp': DSCagg1,\n",
    "        'GTVn': DSCagg2,\n",
    "        'mean': np.mean((DSCagg1, DSCagg2)),\n",
    "    }\n",
    "    return aggregate_results\n",
    "\n",
    "def get_intermediate_metrics(patient_ID, groundtruth, prediction):\n",
    "    \"\"\"\n",
    "    Compute intermediate metrics for a given groundtruth and prediction.\n",
    "    These metrics are used to compute the aggregate dice.\n",
    "    \"\"\"\n",
    "    overlap_measures = sitk.LabelOverlapMeasuresImageFilter()\n",
    "    overlap_measures.SetNumberOfThreads(1)\n",
    "    overlap_measures.Execute(groundtruth, prediction)\n",
    "\n",
    "    DSC1 = overlap_measures.GetDiceCoefficient(1)\n",
    "    DSC2 = overlap_measures.GetDiceCoefficient(2)\n",
    "\n",
    "    vol_gt1, vol_gt2 = compute_volumes(groundtruth)\n",
    "    vol_pred1, vol_pred2 = compute_volumes(prediction)\n",
    "\n",
    "    vol_sum1 = vol_gt1 + vol_pred1\n",
    "    vol_sum2 = vol_gt2 + vol_pred2\n",
    "    TP1 = DSC1 * (vol_sum1) / 2\n",
    "    TP2 = DSC2 * (vol_sum2) / 2\n",
    "    return {\n",
    "        \"PatientID\": patient_ID, # added patient ID so we can pinpoint exact results if needed\n",
    "        \"TP1\": TP1,\n",
    "        \"TP2\": TP2,\n",
    "        \"vol_sum1\": vol_sum1,\n",
    "        \"vol_sum2\": vol_sum2,\n",
    "        \"DSC1\": DSC1,\n",
    "        \"DSC2\": DSC2,\n",
    "        \"vol_gt1\": vol_gt1, # needed if you want to exclude empty ground truths in conventional DSC calcs\n",
    "        \"vol_gt2\": vol_gt2, \n",
    "    }\n",
    "\n",
    "def resample_prediction(groundtruth, prediction):\n",
    "    \"\"\"\n",
    "    Resample the prediction to the groundtruth physical domain\n",
    "    \"\"\"\n",
    "    resample = sitk.ResampleImageFilter()\n",
    "    resample.SetSize(groundtruth.GetSize())\n",
    "    resample.SetOutputDirection(groundtruth.GetDirection())\n",
    "    resample.SetOutputOrigin(groundtruth.GetOrigin())\n",
    "    resample.SetOutputSpacing(groundtruth.GetSpacing())\n",
    "    resample.SetInterpolator(sitk.sitkNearestNeighbor)\n",
    "    return resample.Execute(prediction) \n",
    "\n",
    "def check_prediction(patient_ID, groundtruth, prediction):\n",
    "    \"\"\"\n",
    "    Check if the prediction is valid and apply padding if needed\n",
    "    \"\"\"\n",
    "\n",
    "    # Cast to the same type\n",
    "    caster = sitk.CastImageFilter()\n",
    "    caster.SetOutputPixelType(sitk.sitkUInt8)\n",
    "    caster.SetNumberOfThreads(1)\n",
    "    groundtruth = caster.Execute(groundtruth)\n",
    "    prediction = caster.Execute(prediction)\n",
    "\n",
    "    # Check labels\n",
    "    stats = sitk.LabelStatisticsImageFilter()\n",
    "    stats.Execute(prediction, prediction)\n",
    "    labels = stats.GetLabels()\n",
    "    if not all([l in [0, 1, 2] for l in labels]):\n",
    "        raise RuntimeError(\n",
    "            f\"Patient {patient_ID}: Error. The labels are incorrect. The labels should be background: 0, GTVp: 1, GTVn: 2.\"\n",
    "        )\n",
    "    # Check spacings\n",
    "    if not np.allclose(\n",
    "            groundtruth.GetSpacing(), prediction.GetSpacing(), atol=0.000001):\n",
    "        raise RuntimeError(\n",
    "            f\"Patient {patient_ID}: Error. The resolution of the prediction is different from the MRI ground truth resolution.\"\n",
    "        )\n",
    "\n",
    "    # Check if resampling is needed\n",
    "    needs_resampling = False\n",
    "    if prediction.GetSize() != groundtruth.GetSize():\n",
    "        needs_resampling = True\n",
    "    elif not np.allclose(prediction.GetDirection(), groundtruth.GetDirection(), atol=0.000001):\n",
    "        needs_resampling = True\n",
    "    elif not np.allclose(prediction.GetOrigin(), groundtruth.GetOrigin(), atol=0.000001):\n",
    "        needs_resampling = True\n",
    "\n",
    "    if needs_resampling:\n",
    "        print(f\"Patient {patient_ID}: Prediction checked, resampling prediction to match ground truth...\")\n",
    "        prediction = resample_prediction(groundtruth, prediction)\n",
    "    else:\n",
    "        print(f'Patient {patient_ID}: Prediction checked, everything correct and no resampling needed.')\n",
    "        # To be sure that sitk won't trigger unnecessary errors\n",
    "        prediction.SetSpacing(groundtruth.GetSpacing())\n",
    "\n",
    "    return prediction"
   ]
  },
  {
   "cell_type": "markdown",
   "metadata": {},
   "source": [
    "## DSCagg Calculation\n",
    "\n",
    "Remember DSCagg is calculated over the entire set of data so you do not get patient-level datapoints like with conventional volumetric DSC.\n",
    "\n",
    "Ground truth masks here are the mid-RT masks while the \"prediction\" masks here are the registered pre-RT masks. "
   ]
  },
  {
   "cell_type": "code",
   "execution_count": null,
   "metadata": {},
   "outputs": [
    {
     "name": "stdout",
     "output_type": "stream",
     "text": [
      "Prediction files ['/homes/nmoradi/test/evaluation/predicted_midRT_517_MedNext/predictions_all_hntsmrg_format/145_midRT_mask.nii.gz', '/homes/nmoradi/test/evaluation/predicted_midRT_517_MedNext/predictions_all_hntsmrg_format/150_midRT_mask.nii.gz', '/homes/nmoradi/test/evaluation/predicted_midRT_517_MedNext/predictions_all_hntsmrg_format/41_midRT_mask.nii.gz', '/homes/nmoradi/test/evaluation/predicted_midRT_517_MedNext/predictions_all_hntsmrg_format/75_midRT_mask.nii.gz', '/homes/nmoradi/test/evaluation/predicted_midRT_517_MedNext/predictions_all_hntsmrg_format/60_midRT_mask.nii.gz', '/homes/nmoradi/test/evaluation/predicted_midRT_517_MedNext/predictions_all_hntsmrg_format/171_midRT_mask.nii.gz', '/homes/nmoradi/test/evaluation/predicted_midRT_517_MedNext/predictions_all_hntsmrg_format/164_midRT_mask.nii.gz', '/homes/nmoradi/test/evaluation/predicted_midRT_517_MedNext/predictions_all_hntsmrg_format/133_midRT_mask.nii.gz', '/homes/nmoradi/test/evaluation/predicted_midRT_517_MedNext/predictions_all_hntsmrg_format/37_midRT_mask.nii.gz', '/homes/nmoradi/test/evaluation/predicted_midRT_517_MedNext/predictions_all_hntsmrg_format/6_midRT_mask.nii.gz', '/homes/nmoradi/test/evaluation/predicted_midRT_517_MedNext/predictions_all_hntsmrg_format/119_midRT_mask.nii.gz', '/homes/nmoradi/test/evaluation/predicted_midRT_517_MedNext/predictions_all_hntsmrg_format/22_midRT_mask.nii.gz', '/homes/nmoradi/test/evaluation/predicted_midRT_517_MedNext/predictions_all_hntsmrg_format/190_midRT_mask.nii.gz', '/homes/nmoradi/test/evaluation/predicted_midRT_517_MedNext/predictions_all_hntsmrg_format/138_midRT_mask.nii.gz', '/homes/nmoradi/test/evaluation/predicted_midRT_517_MedNext/predictions_all_hntsmrg_format/185_midRT_mask.nii.gz', '/homes/nmoradi/test/evaluation/predicted_midRT_517_MedNext/predictions_all_hntsmrg_format/107_midRT_mask.nii.gz', '/homes/nmoradi/test/evaluation/predicted_midRT_517_MedNext/predictions_all_hntsmrg_format/29_midRT_mask.nii.gz', '/homes/nmoradi/test/evaluation/predicted_midRT_517_MedNext/predictions_all_hntsmrg_format/94_midRT_mask.nii.gz', '/homes/nmoradi/test/evaluation/predicted_midRT_517_MedNext/predictions_all_hntsmrg_format/112_midRT_mask.nii.gz', '/homes/nmoradi/test/evaluation/predicted_midRT_517_MedNext/predictions_all_hntsmrg_format/81_midRT_mask.nii.gz', '/homes/nmoradi/test/evaluation/predicted_midRT_517_MedNext/predictions_all_hntsmrg_format/101_midRT_mask.nii.gz', '/homes/nmoradi/test/evaluation/predicted_midRT_517_MedNext/predictions_all_hntsmrg_format/114_midRT_mask.nii.gz', '/homes/nmoradi/test/evaluation/predicted_midRT_517_MedNext/predictions_all_hntsmrg_format/196_midRT_mask.nii.gz', '/homes/nmoradi/test/evaluation/predicted_midRT_517_MedNext/predictions_all_hntsmrg_format/183_midRT_mask.nii.gz', '/homes/nmoradi/test/evaluation/predicted_midRT_517_MedNext/predictions_all_hntsmrg_format/10_midRT_mask.nii.gz', '/homes/nmoradi/test/evaluation/predicted_midRT_517_MedNext/predictions_all_hntsmrg_format/31_midRT_mask.nii.gz', '/homes/nmoradi/test/evaluation/predicted_midRT_517_MedNext/predictions_all_hntsmrg_format/24_midRT_mask.nii.gz', '/homes/nmoradi/test/evaluation/predicted_midRT_517_MedNext/predictions_all_hntsmrg_format/99_midRT_mask.nii.gz', '/homes/nmoradi/test/evaluation/predicted_midRT_517_MedNext/predictions_all_hntsmrg_format/135_midRT_mask.nii.gz', '/homes/nmoradi/test/evaluation/predicted_midRT_517_MedNext/predictions_all_hntsmrg_format/188_midRT_mask.nii.gz', '/homes/nmoradi/test/evaluation/predicted_midRT_517_MedNext/predictions_all_hntsmrg_format/177_midRT_mask.nii.gz', '/homes/nmoradi/test/evaluation/predicted_midRT_517_MedNext/predictions_all_hntsmrg_format/66_midRT_mask.nii.gz', '/homes/nmoradi/test/evaluation/predicted_midRT_517_MedNext/predictions_all_hntsmrg_format/148_midRT_mask.nii.gz', '/homes/nmoradi/test/evaluation/predicted_midRT_517_MedNext/predictions_all_hntsmrg_format/47_midRT_mask.nii.gz', '/homes/nmoradi/test/evaluation/predicted_midRT_517_MedNext/predictions_all_hntsmrg_format/169_midRT_mask.nii.gz', '/homes/nmoradi/test/evaluation/predicted_midRT_517_MedNext/predictions_all_hntsmrg_format/52_midRT_mask.nii.gz', '/homes/nmoradi/test/evaluation/predicted_midRT_517_MedNext/predictions_all_hntsmrg_format/156_midRT_mask.nii.gz', '/homes/nmoradi/test/evaluation/predicted_midRT_517_MedNext/predictions_all_hntsmrg_format/78_midRT_mask.nii.gz', '/homes/nmoradi/test/evaluation/predicted_midRT_517_MedNext/predictions_all_hntsmrg_format/170_midRT_mask.nii.gz', '/homes/nmoradi/test/evaluation/predicted_midRT_517_MedNext/predictions_all_hntsmrg_format/165_midRT_mask.nii.gz', '/homes/nmoradi/test/evaluation/predicted_midRT_517_MedNext/predictions_all_hntsmrg_format/74_midRT_mask.nii.gz', '/homes/nmoradi/test/evaluation/predicted_midRT_517_MedNext/predictions_all_hntsmrg_format/61_midRT_mask.nii.gz', '/homes/nmoradi/test/evaluation/predicted_midRT_517_MedNext/predictions_all_hntsmrg_format/55_midRT_mask.nii.gz', '/homes/nmoradi/test/evaluation/predicted_midRT_517_MedNext/predictions_all_hntsmrg_format/144_midRT_mask.nii.gz', '/homes/nmoradi/test/evaluation/predicted_midRT_517_MedNext/predictions_all_hntsmrg_format/151_midRT_mask.nii.gz', '/homes/nmoradi/test/evaluation/predicted_midRT_517_MedNext/predictions_all_hntsmrg_format/95_midRT_mask.nii.gz', '/homes/nmoradi/test/evaluation/predicted_midRT_517_MedNext/predictions_all_hntsmrg_format/80_midRT_mask.nii.gz', '/homes/nmoradi/test/evaluation/predicted_midRT_517_MedNext/predictions_all_hntsmrg_format/113_midRT_mask.nii.gz', '/homes/nmoradi/test/evaluation/predicted_midRT_517_MedNext/predictions_all_hntsmrg_format/191_midRT_mask.nii.gz', '/homes/nmoradi/test/evaluation/predicted_midRT_517_MedNext/predictions_all_hntsmrg_format/139_midRT_mask.nii.gz', '/homes/nmoradi/test/evaluation/predicted_midRT_517_MedNext/predictions_all_hntsmrg_format/184_midRT_mask.nii.gz', '/homes/nmoradi/test/evaluation/predicted_midRT_517_MedNext/predictions_all_hntsmrg_format/17_midRT_mask.nii.gz', '/homes/nmoradi/test/evaluation/predicted_midRT_517_MedNext/predictions_all_hntsmrg_format/118_midRT_mask.nii.gz', '/homes/nmoradi/test/evaluation/predicted_midRT_517_MedNext/predictions_all_hntsmrg_format/36_midRT_mask.nii.gz', '/homes/nmoradi/test/evaluation/predicted_midRT_517_MedNext/predictions_all_hntsmrg_format/23_midRT_mask.nii.gz', '/homes/nmoradi/test/evaluation/predicted_midRT_517_MedNext/predictions_all_hntsmrg_format/132_midRT_mask.nii.gz', '/homes/nmoradi/test/evaluation/predicted_midRT_517_MedNext/predictions_all_hntsmrg_format/127_midRT_mask.nii.gz', '/homes/nmoradi/test/evaluation/predicted_midRT_517_MedNext/predictions_all_hntsmrg_format/30_midRT_mask.nii.gz', '/homes/nmoradi/test/evaluation/predicted_midRT_517_MedNext/predictions_all_hntsmrg_format/25_midRT_mask.nii.gz', '/homes/nmoradi/test/evaluation/predicted_midRT_517_MedNext/predictions_all_hntsmrg_format/197_midRT_mask.nii.gz', '/homes/nmoradi/test/evaluation/predicted_midRT_517_MedNext/predictions_all_hntsmrg_format/11_midRT_mask.nii.gz', '/homes/nmoradi/test/evaluation/predicted_midRT_517_MedNext/predictions_all_hntsmrg_format/93_midRT_mask.nii.gz', '/homes/nmoradi/test/evaluation/predicted_midRT_517_MedNext/predictions_all_hntsmrg_format/115_midRT_mask.nii.gz', '/homes/nmoradi/test/evaluation/predicted_midRT_517_MedNext/predictions_all_hntsmrg_format/86_midRT_mask.nii.gz', '/homes/nmoradi/test/evaluation/predicted_midRT_517_MedNext/predictions_all_hntsmrg_format/142_midRT_mask.nii.gz', '/homes/nmoradi/test/evaluation/predicted_midRT_517_MedNext/predictions_all_hntsmrg_format/79_midRT_mask.nii.gz', '/homes/nmoradi/test/evaluation/predicted_midRT_517_MedNext/predictions_all_hntsmrg_format/157_midRT_mask.nii.gz', '/homes/nmoradi/test/evaluation/predicted_midRT_517_MedNext/predictions_all_hntsmrg_format/46_midRT_mask.nii.gz', '/homes/nmoradi/test/evaluation/predicted_midRT_517_MedNext/predictions_all_hntsmrg_format/53_midRT_mask.nii.gz', '/homes/nmoradi/test/evaluation/predicted_midRT_517_MedNext/predictions_all_hntsmrg_format/201_midRT_mask.nii.gz', '/homes/nmoradi/test/evaluation/predicted_midRT_517_MedNext/predictions_all_hntsmrg_format/149_midRT_mask.nii.gz', '/homes/nmoradi/test/evaluation/predicted_midRT_517_MedNext/predictions_all_hntsmrg_format/67_midRT_mask.nii.gz', '/homes/nmoradi/test/evaluation/predicted_midRT_517_MedNext/predictions_all_hntsmrg_format/58_midRT_mask.nii.gz', '/homes/nmoradi/test/evaluation/predicted_midRT_517_MedNext/predictions_all_hntsmrg_format/176_midRT_mask.nii.gz', '/homes/nmoradi/test/evaluation/predicted_midRT_517_MedNext/predictions_all_hntsmrg_format/163_midRT_mask.nii.gz', '/homes/nmoradi/test/evaluation/predicted_midRT_517_MedNext/predictions_all_hntsmrg_format/14_midRT_mask.nii.gz', '/homes/nmoradi/test/evaluation/predicted_midRT_517_MedNext/predictions_all_hntsmrg_format/187_midRT_mask.nii.gz', '/homes/nmoradi/test/evaluation/predicted_midRT_517_MedNext/predictions_all_hntsmrg_format/110_midRT_mask.nii.gz', '/homes/nmoradi/test/evaluation/predicted_midRT_517_MedNext/predictions_all_hntsmrg_format/83_midRT_mask.nii.gz', '/homes/nmoradi/test/evaluation/predicted_midRT_517_MedNext/predictions_all_hntsmrg_format/105_midRT_mask.nii.gz', '/homes/nmoradi/test/evaluation/predicted_midRT_517_MedNext/predictions_all_hntsmrg_format/96_midRT_mask.nii.gz', '/homes/nmoradi/test/evaluation/predicted_midRT_517_MedNext/predictions_all_hntsmrg_format/131_midRT_mask.nii.gz', '/homes/nmoradi/test/evaluation/predicted_midRT_517_MedNext/predictions_all_hntsmrg_format/20_midRT_mask.nii.gz', '/homes/nmoradi/test/evaluation/predicted_midRT_517_MedNext/predictions_all_hntsmrg_format/88_midRT_mask.nii.gz', '/homes/nmoradi/test/evaluation/predicted_midRT_517_MedNext/predictions_all_hntsmrg_format/4_midRT_mask.nii.gz', '/homes/nmoradi/test/evaluation/predicted_midRT_517_MedNext/predictions_all_hntsmrg_format/159_midRT_mask.nii.gz', '/homes/nmoradi/test/evaluation/predicted_midRT_517_MedNext/predictions_all_hntsmrg_format/77_midRT_mask.nii.gz', '/homes/nmoradi/test/evaluation/predicted_midRT_517_MedNext/predictions_all_hntsmrg_format/48_midRT_mask.nii.gz', '/homes/nmoradi/test/evaluation/predicted_midRT_517_MedNext/predictions_all_hntsmrg_format/166_midRT_mask.nii.gz', '/homes/nmoradi/test/evaluation/predicted_midRT_517_MedNext/predictions_all_hntsmrg_format/173_midRT_mask.nii.gz', '/homes/nmoradi/test/evaluation/predicted_midRT_517_MedNext/predictions_all_hntsmrg_format/152_midRT_mask.nii.gz', '/homes/nmoradi/test/evaluation/predicted_midRT_517_MedNext/predictions_all_hntsmrg_format/69_midRT_mask.nii.gz', '/homes/nmoradi/test/evaluation/predicted_midRT_517_MedNext/predictions_all_hntsmrg_format/178_midRT_mask.nii.gz', '/homes/nmoradi/test/evaluation/predicted_midRT_517_MedNext/predictions_all_hntsmrg_format/56_midRT_mask.nii.gz', '/homes/nmoradi/test/evaluation/predicted_midRT_517_MedNext/predictions_all_hntsmrg_format/50_midRT_mask.nii.gz', '/homes/nmoradi/test/evaluation/predicted_midRT_517_MedNext/predictions_all_hntsmrg_format/45_midRT_mask.nii.gz', '/homes/nmoradi/test/evaluation/predicted_midRT_517_MedNext/predictions_all_hntsmrg_format/154_midRT_mask.nii.gz', '/homes/nmoradi/test/evaluation/predicted_midRT_517_MedNext/predictions_all_hntsmrg_format/141_midRT_mask.nii.gz', '/homes/nmoradi/test/evaluation/predicted_midRT_517_MedNext/predictions_all_hntsmrg_format/175_midRT_mask.nii.gz', '/homes/nmoradi/test/evaluation/predicted_midRT_517_MedNext/predictions_all_hntsmrg_format/64_midRT_mask.nii.gz', '/homes/nmoradi/test/evaluation/predicted_midRT_517_MedNext/predictions_all_hntsmrg_format/71_midRT_mask.nii.gz', '/homes/nmoradi/test/evaluation/predicted_midRT_517_MedNext/predictions_all_hntsmrg_format/108_midRT_mask.nii.gz', '/homes/nmoradi/test/evaluation/predicted_midRT_517_MedNext/predictions_all_hntsmrg_format/26_midRT_mask.nii.gz', '/homes/nmoradi/test/evaluation/predicted_midRT_517_MedNext/predictions_all_hntsmrg_format/33_midRT_mask.nii.gz', '/homes/nmoradi/test/evaluation/predicted_midRT_517_MedNext/predictions_all_hntsmrg_format/2_midRT_mask.nii.gz', '/homes/nmoradi/test/evaluation/predicted_midRT_517_MedNext/predictions_all_hntsmrg_format/122_midRT_mask.nii.gz', '/homes/nmoradi/test/evaluation/predicted_midRT_517_MedNext/predictions_all_hntsmrg_format/116_midRT_mask.nii.gz', '/homes/nmoradi/test/evaluation/predicted_midRT_517_MedNext/predictions_all_hntsmrg_format/90_midRT_mask.nii.gz', '/homes/nmoradi/test/evaluation/predicted_midRT_517_MedNext/predictions_all_hntsmrg_format/103_midRT_mask.nii.gz', '/homes/nmoradi/test/evaluation/predicted_midRT_517_MedNext/predictions_all_hntsmrg_format/181_midRT_mask.nii.gz', '/homes/nmoradi/test/evaluation/predicted_midRT_517_MedNext/predictions_all_hntsmrg_format/12_midRT_mask.nii.gz', '/homes/nmoradi/test/evaluation/predicted_midRT_517_MedNext/predictions_all_hntsmrg_format/194_midRT_mask.nii.gz', '/homes/nmoradi/test/evaluation/predicted_midRT_517_MedNext/predictions_all_hntsmrg_format/129_midRT_mask.nii.gz', '/homes/nmoradi/test/evaluation/predicted_midRT_517_MedNext/predictions_all_hntsmrg_format/21_midRT_mask.nii.gz', '/homes/nmoradi/test/evaluation/predicted_midRT_517_MedNext/predictions_all_hntsmrg_format/5_midRT_mask.nii.gz', '/homes/nmoradi/test/evaluation/predicted_midRT_517_MedNext/predictions_all_hntsmrg_format/34_midRT_mask.nii.gz', '/homes/nmoradi/test/evaluation/predicted_midRT_517_MedNext/predictions_all_hntsmrg_format/198_midRT_mask.nii.gz', '/homes/nmoradi/test/evaluation/predicted_midRT_517_MedNext/predictions_all_hntsmrg_format/125_midRT_mask.nii.gz', '/homes/nmoradi/test/evaluation/predicted_midRT_517_MedNext/predictions_all_hntsmrg_format/130_midRT_mask.nii.gz', '/homes/nmoradi/test/evaluation/predicted_midRT_517_MedNext/predictions_all_hntsmrg_format/82_midRT_mask.nii.gz', '/homes/nmoradi/test/evaluation/predicted_midRT_517_MedNext/predictions_all_hntsmrg_format/111_midRT_mask.nii.gz', '/homes/nmoradi/test/evaluation/predicted_midRT_517_MedNext/predictions_all_hntsmrg_format/104_midRT_mask.nii.gz', '/homes/nmoradi/test/evaluation/predicted_midRT_517_MedNext/predictions_all_hntsmrg_format/193_midRT_mask.nii.gz', '/homes/nmoradi/test/evaluation/predicted_midRT_517_MedNext/predictions_all_hntsmrg_format/57_midRT_mask.nii.gz', '/homes/nmoradi/test/evaluation/predicted_midRT_517_MedNext/predictions_all_hntsmrg_format/179_midRT_mask.nii.gz', '/homes/nmoradi/test/evaluation/predicted_midRT_517_MedNext/predictions_all_hntsmrg_format/42_midRT_mask.nii.gz', '/homes/nmoradi/test/evaluation/predicted_midRT_517_MedNext/predictions_all_hntsmrg_format/153_midRT_mask.nii.gz', '/homes/nmoradi/test/evaluation/predicted_midRT_517_MedNext/predictions_all_hntsmrg_format/146_midRT_mask.nii.gz', '/homes/nmoradi/test/evaluation/predicted_midRT_517_MedNext/predictions_all_hntsmrg_format/49_midRT_mask.nii.gz', '/homes/nmoradi/test/evaluation/predicted_midRT_517_MedNext/predictions_all_hntsmrg_format/172_midRT_mask.nii.gz', '/homes/nmoradi/test/evaluation/predicted_midRT_517_MedNext/predictions_all_hntsmrg_format/63_midRT_mask.nii.gz', '/homes/nmoradi/test/evaluation/predicted_midRT_517_MedNext/predictions_all_hntsmrg_format/158_midRT_mask.nii.gz', '/homes/nmoradi/test/evaluation/predicted_midRT_517_MedNext/predictions_all_hntsmrg_format/70_midRT_mask.nii.gz', '/homes/nmoradi/test/evaluation/predicted_midRT_517_MedNext/predictions_all_hntsmrg_format/161_midRT_mask.nii.gz', '/homes/nmoradi/test/evaluation/predicted_midRT_517_MedNext/predictions_all_hntsmrg_format/174_midRT_mask.nii.gz', '/homes/nmoradi/test/evaluation/predicted_midRT_517_MedNext/predictions_all_hntsmrg_format/155_midRT_mask.nii.gz', '/homes/nmoradi/test/evaluation/predicted_midRT_517_MedNext/predictions_all_hntsmrg_format/44_midRT_mask.nii.gz', '/homes/nmoradi/test/evaluation/predicted_midRT_517_MedNext/predictions_all_hntsmrg_format/13_midRT_mask.nii.gz', '/homes/nmoradi/test/evaluation/predicted_midRT_517_MedNext/predictions_all_hntsmrg_format/180_midRT_mask.nii.gz', '/homes/nmoradi/test/evaluation/predicted_midRT_517_MedNext/predictions_all_hntsmrg_format/195_midRT_mask.nii.gz', '/homes/nmoradi/test/evaluation/predicted_midRT_517_MedNext/predictions_all_hntsmrg_format/84_midRT_mask.nii.gz', '/homes/nmoradi/test/evaluation/predicted_midRT_517_MedNext/predictions_all_hntsmrg_format/8_midRT_mask.nii.gz', '/homes/nmoradi/test/evaluation/predicted_midRT_517_MedNext/predictions_all_hntsmrg_format/39_midRT_mask.nii.gz', '/homes/nmoradi/test/evaluation/predicted_midRT_517_MedNext/predictions_all_hntsmrg_format/91_midRT_mask.nii.gz', '/homes/nmoradi/test/evaluation/predicted_midRT_517_MedNext/predictions_all_hntsmrg_format/136_midRT_mask.nii.gz', '/homes/nmoradi/test/evaluation/predicted_midRT_517_MedNext/predictions_all_hntsmrg_format/18_midRT_mask.nii.gz', '/homes/nmoradi/test/evaluation/predicted_midRT_517_MedNext/predictions_all_hntsmrg_format/27_midRT_mask.nii.gz', '/homes/nmoradi/test/evaluation/predicted_midRT_517_MedNext/predictions_all_hntsmrg_format/109_midRT_mask.nii.gz', '/homes/nmoradi/test/evaluation/predicted_midRT_517_MedNext/predictions_all_hntsmrg_format/32_midRT_mask.nii.gz', '/homes/nmoradi/test/evaluation/predicted_midRT_517_MedNext/predictions_all_hntsmrg_format/3_midRT_mask.nii.gz'] \n",
      "\n",
      "Ground truth files ['/homes/nmoradi/test/evaluation/ground_truth_midRT/49_midRT_mask.nii.gz', '/homes/nmoradi/test/evaluation/ground_truth_midRT/164_midRT_mask.nii.gz', '/homes/nmoradi/test/evaluation/ground_truth_midRT/63_midRT_mask.nii.gz', '/homes/nmoradi/test/evaluation/ground_truth_midRT/171_midRT_mask.nii.gz', '/homes/nmoradi/test/evaluation/ground_truth_midRT/150_midRT_mask.nii.gz', '/homes/nmoradi/test/evaluation/ground_truth_midRT/57_midRT_mask.nii.gz', '/homes/nmoradi/test/evaluation/ground_truth_midRT/145_midRT_mask.nii.gz', '/homes/nmoradi/test/evaluation/ground_truth_midRT/42_midRT_mask.nii.gz', '/homes/nmoradi/test/evaluation/ground_truth_midRT/185_midRT_mask.nii.gz', '/homes/nmoradi/test/evaluation/ground_truth_midRT/138_midRT_mask.nii.gz', '/homes/nmoradi/test/evaluation/ground_truth_midRT/82_midRT_mask.nii.gz', '/homes/nmoradi/test/evaluation/ground_truth_midRT/190_midRT_mask.nii.gz', '/homes/nmoradi/test/evaluation/ground_truth_midRT/2_midRT_mask.nii.gz', '/homes/nmoradi/test/evaluation/ground_truth_midRT/112_midRT_mask.nii.gz', '/homes/nmoradi/test/evaluation/ground_truth_midRT/107_midRT_mask.nii.gz', '/homes/nmoradi/test/evaluation/ground_truth_midRT/21_midRT_mask.nii.gz', '/homes/nmoradi/test/evaluation/ground_truth_midRT/34_midRT_mask.nii.gz', '/homes/nmoradi/test/evaluation/ground_truth_midRT/133_midRT_mask.nii.gz', '/homes/nmoradi/test/evaluation/ground_truth_midRT/119_midRT_mask.nii.gz', '/homes/nmoradi/test/evaluation/ground_truth_midRT/18_midRT_mask.nii.gz', '/homes/nmoradi/test/evaluation/ground_truth_midRT/27_midRT_mask.nii.gz', '/homes/nmoradi/test/evaluation/ground_truth_midRT/188_midRT_mask.nii.gz', '/homes/nmoradi/test/evaluation/ground_truth_midRT/135_midRT_mask.nii.gz', '/homes/nmoradi/test/evaluation/ground_truth_midRT/32_midRT_mask.nii.gz', '/homes/nmoradi/test/evaluation/ground_truth_midRT/114_midRT_mask.nii.gz', '/homes/nmoradi/test/evaluation/ground_truth_midRT/4_midRT_mask.nii.gz', '/homes/nmoradi/test/evaluation/ground_truth_midRT/13_midRT_mask.nii.gz', '/homes/nmoradi/test/evaluation/ground_truth_midRT/101_midRT_mask.nii.gz', '/homes/nmoradi/test/evaluation/ground_truth_midRT/84_midRT_mask.nii.gz', '/homes/nmoradi/test/evaluation/ground_truth_midRT/39_midRT_mask.nii.gz', '/homes/nmoradi/test/evaluation/ground_truth_midRT/183_midRT_mask.nii.gz', '/homes/nmoradi/test/evaluation/ground_truth_midRT/91_midRT_mask.nii.gz', '/homes/nmoradi/test/evaluation/ground_truth_midRT/196_midRT_mask.nii.gz', '/homes/nmoradi/test/evaluation/ground_truth_midRT/169_midRT_mask.nii.gz', '/homes/nmoradi/test/evaluation/ground_truth_midRT/156_midRT_mask.nii.gz', '/homes/nmoradi/test/evaluation/ground_truth_midRT/44_midRT_mask.nii.gz', '/homes/nmoradi/test/evaluation/ground_truth_midRT/70_midRT_mask.nii.gz', '/homes/nmoradi/test/evaluation/ground_truth_midRT/177_midRT_mask.nii.gz', '/homes/nmoradi/test/evaluation/ground_truth_midRT/148_midRT_mask.nii.gz', '/homes/nmoradi/test/evaluation/ground_truth_midRT/69_midRT_mask.nii.gz', '/homes/nmoradi/test/evaluation/ground_truth_midRT/56_midRT_mask.nii.gz', '/homes/nmoradi/test/evaluation/ground_truth_midRT/151_midRT_mask.nii.gz', '/homes/nmoradi/test/evaluation/ground_truth_midRT/144_midRT_mask.nii.gz', '/homes/nmoradi/test/evaluation/ground_truth_midRT/165_midRT_mask.nii.gz', '/homes/nmoradi/test/evaluation/ground_truth_midRT/77_midRT_mask.nii.gz', '/homes/nmoradi/test/evaluation/ground_truth_midRT/170_midRT_mask.nii.gz', '/homes/nmoradi/test/evaluation/ground_truth_midRT/48_midRT_mask.nii.gz', '/homes/nmoradi/test/evaluation/ground_truth_midRT/118_midRT_mask.nii.gz', '/homes/nmoradi/test/evaluation/ground_truth_midRT/8_midRT_mask.nii.gz', '/homes/nmoradi/test/evaluation/ground_truth_midRT/127_midRT_mask.nii.gz', '/homes/nmoradi/test/evaluation/ground_truth_midRT/20_midRT_mask.nii.gz', '/homes/nmoradi/test/evaluation/ground_truth_midRT/132_midRT_mask.nii.gz', '/homes/nmoradi/test/evaluation/ground_truth_midRT/88_midRT_mask.nii.gz', '/homes/nmoradi/test/evaluation/ground_truth_midRT/3_midRT_mask.nii.gz', '/homes/nmoradi/test/evaluation/ground_truth_midRT/113_midRT_mask.nii.gz', '/homes/nmoradi/test/evaluation/ground_truth_midRT/14_midRT_mask.nii.gz', '/homes/nmoradi/test/evaluation/ground_truth_midRT/83_midRT_mask.nii.gz', '/homes/nmoradi/test/evaluation/ground_truth_midRT/184_midRT_mask.nii.gz', '/homes/nmoradi/test/evaluation/ground_truth_midRT/139_midRT_mask.nii.gz', '/homes/nmoradi/test/evaluation/ground_truth_midRT/96_midRT_mask.nii.gz', '/homes/nmoradi/test/evaluation/ground_truth_midRT/191_midRT_mask.nii.gz', '/homes/nmoradi/test/evaluation/ground_truth_midRT/197_midRT_mask.nii.gz', '/homes/nmoradi/test/evaluation/ground_truth_midRT/90_midRT_mask.nii.gz', '/homes/nmoradi/test/evaluation/ground_truth_midRT/12_midRT_mask.nii.gz', '/homes/nmoradi/test/evaluation/ground_truth_midRT/115_midRT_mask.nii.gz', '/homes/nmoradi/test/evaluation/ground_truth_midRT/5_midRT_mask.nii.gz', '/homes/nmoradi/test/evaluation/ground_truth_midRT/26_midRT_mask.nii.gz', '/homes/nmoradi/test/evaluation/ground_truth_midRT/33_midRT_mask.nii.gz', '/homes/nmoradi/test/evaluation/ground_truth_midRT/149_midRT_mask.nii.gz', '/homes/nmoradi/test/evaluation/ground_truth_midRT/201_midRT_mask.nii.gz', '/homes/nmoradi/test/evaluation/ground_truth_midRT/163_midRT_mask.nii.gz', '/homes/nmoradi/test/evaluation/ground_truth_midRT/64_midRT_mask.nii.gz', '/homes/nmoradi/test/evaluation/ground_truth_midRT/176_midRT_mask.nii.gz', '/homes/nmoradi/test/evaluation/ground_truth_midRT/71_midRT_mask.nii.gz', '/homes/nmoradi/test/evaluation/ground_truth_midRT/157_midRT_mask.nii.gz', '/homes/nmoradi/test/evaluation/ground_truth_midRT/50_midRT_mask.nii.gz', '/homes/nmoradi/test/evaluation/ground_truth_midRT/142_midRT_mask.nii.gz', '/homes/nmoradi/test/evaluation/ground_truth_midRT/45_midRT_mask.nii.gz', '/homes/nmoradi/test/evaluation/ground_truth_midRT/36_midRT_mask.nii.gz', '/homes/nmoradi/test/evaluation/ground_truth_midRT/131_midRT_mask.nii.gz', '/homes/nmoradi/test/evaluation/ground_truth_midRT/23_midRT_mask.nii.gz', '/homes/nmoradi/test/evaluation/ground_truth_midRT/95_midRT_mask.nii.gz', '/homes/nmoradi/test/evaluation/ground_truth_midRT/187_midRT_mask.nii.gz', '/homes/nmoradi/test/evaluation/ground_truth_midRT/80_midRT_mask.nii.gz', '/homes/nmoradi/test/evaluation/ground_truth_midRT/105_midRT_mask.nii.gz', '/homes/nmoradi/test/evaluation/ground_truth_midRT/17_midRT_mask.nii.gz', '/homes/nmoradi/test/evaluation/ground_truth_midRT/110_midRT_mask.nii.gz', '/homes/nmoradi/test/evaluation/ground_truth_midRT/152_midRT_mask.nii.gz', '/homes/nmoradi/test/evaluation/ground_truth_midRT/55_midRT_mask.nii.gz', '/homes/nmoradi/test/evaluation/ground_truth_midRT/178_midRT_mask.nii.gz', '/homes/nmoradi/test/evaluation/ground_truth_midRT/159_midRT_mask.nii.gz', '/homes/nmoradi/test/evaluation/ground_truth_midRT/173_midRT_mask.nii.gz', '/homes/nmoradi/test/evaluation/ground_truth_midRT/74_midRT_mask.nii.gz', '/homes/nmoradi/test/evaluation/ground_truth_midRT/166_midRT_mask.nii.gz', '/homes/nmoradi/test/evaluation/ground_truth_midRT/61_midRT_mask.nii.gz', '/homes/nmoradi/test/evaluation/ground_truth_midRT/175_midRT_mask.nii.gz', '/homes/nmoradi/test/evaluation/ground_truth_midRT/67_midRT_mask.nii.gz', '/homes/nmoradi/test/evaluation/ground_truth_midRT/58_midRT_mask.nii.gz', '/homes/nmoradi/test/evaluation/ground_truth_midRT/79_midRT_mask.nii.gz', '/homes/nmoradi/test/evaluation/ground_truth_midRT/46_midRT_mask.nii.gz', '/homes/nmoradi/test/evaluation/ground_truth_midRT/141_midRT_mask.nii.gz', '/homes/nmoradi/test/evaluation/ground_truth_midRT/53_midRT_mask.nii.gz', '/homes/nmoradi/test/evaluation/ground_truth_midRT/154_midRT_mask.nii.gz', '/homes/nmoradi/test/evaluation/ground_truth_midRT/103_midRT_mask.nii.gz', '/homes/nmoradi/test/evaluation/ground_truth_midRT/6_midRT_mask.nii.gz', '/homes/nmoradi/test/evaluation/ground_truth_midRT/116_midRT_mask.nii.gz', '/homes/nmoradi/test/evaluation/ground_truth_midRT/11_midRT_mask.nii.gz', '/homes/nmoradi/test/evaluation/ground_truth_midRT/93_midRT_mask.nii.gz', '/homes/nmoradi/test/evaluation/ground_truth_midRT/129_midRT_mask.nii.gz', '/homes/nmoradi/test/evaluation/ground_truth_midRT/194_midRT_mask.nii.gz', '/homes/nmoradi/test/evaluation/ground_truth_midRT/86_midRT_mask.nii.gz', '/homes/nmoradi/test/evaluation/ground_truth_midRT/181_midRT_mask.nii.gz', '/homes/nmoradi/test/evaluation/ground_truth_midRT/108_midRT_mask.nii.gz', '/homes/nmoradi/test/evaluation/ground_truth_midRT/30_midRT_mask.nii.gz', '/homes/nmoradi/test/evaluation/ground_truth_midRT/122_midRT_mask.nii.gz', '/homes/nmoradi/test/evaluation/ground_truth_midRT/25_midRT_mask.nii.gz', '/homes/nmoradi/test/evaluation/ground_truth_midRT/104_midRT_mask.nii.gz', '/homes/nmoradi/test/evaluation/ground_truth_midRT/111_midRT_mask.nii.gz', '/homes/nmoradi/test/evaluation/ground_truth_midRT/29_midRT_mask.nii.gz', '/homes/nmoradi/test/evaluation/ground_truth_midRT/94_midRT_mask.nii.gz', '/homes/nmoradi/test/evaluation/ground_truth_midRT/193_midRT_mask.nii.gz', '/homes/nmoradi/test/evaluation/ground_truth_midRT/81_midRT_mask.nii.gz', '/homes/nmoradi/test/evaluation/ground_truth_midRT/130_midRT_mask.nii.gz', '/homes/nmoradi/test/evaluation/ground_truth_midRT/37_midRT_mask.nii.gz', '/homes/nmoradi/test/evaluation/ground_truth_midRT/125_midRT_mask.nii.gz', '/homes/nmoradi/test/evaluation/ground_truth_midRT/198_midRT_mask.nii.gz', '/homes/nmoradi/test/evaluation/ground_truth_midRT/22_midRT_mask.nii.gz', '/homes/nmoradi/test/evaluation/ground_truth_midRT/75_midRT_mask.nii.gz', '/homes/nmoradi/test/evaluation/ground_truth_midRT/172_midRT_mask.nii.gz', '/homes/nmoradi/test/evaluation/ground_truth_midRT/60_midRT_mask.nii.gz', '/homes/nmoradi/test/evaluation/ground_truth_midRT/158_midRT_mask.nii.gz', '/homes/nmoradi/test/evaluation/ground_truth_midRT/179_midRT_mask.nii.gz', '/homes/nmoradi/test/evaluation/ground_truth_midRT/41_midRT_mask.nii.gz', '/homes/nmoradi/test/evaluation/ground_truth_midRT/146_midRT_mask.nii.gz', '/homes/nmoradi/test/evaluation/ground_truth_midRT/153_midRT_mask.nii.gz', '/homes/nmoradi/test/evaluation/ground_truth_midRT/47_midRT_mask.nii.gz', '/homes/nmoradi/test/evaluation/ground_truth_midRT/155_midRT_mask.nii.gz', '/homes/nmoradi/test/evaluation/ground_truth_midRT/52_midRT_mask.nii.gz', '/homes/nmoradi/test/evaluation/ground_truth_midRT/78_midRT_mask.nii.gz', '/homes/nmoradi/test/evaluation/ground_truth_midRT/174_midRT_mask.nii.gz', '/homes/nmoradi/test/evaluation/ground_truth_midRT/161_midRT_mask.nii.gz', '/homes/nmoradi/test/evaluation/ground_truth_midRT/66_midRT_mask.nii.gz', '/homes/nmoradi/test/evaluation/ground_truth_midRT/31_midRT_mask.nii.gz', '/homes/nmoradi/test/evaluation/ground_truth_midRT/136_midRT_mask.nii.gz', '/homes/nmoradi/test/evaluation/ground_truth_midRT/24_midRT_mask.nii.gz', '/homes/nmoradi/test/evaluation/ground_truth_midRT/99_midRT_mask.nii.gz', '/homes/nmoradi/test/evaluation/ground_truth_midRT/109_midRT_mask.nii.gz', '/homes/nmoradi/test/evaluation/ground_truth_midRT/195_midRT_mask.nii.gz', '/homes/nmoradi/test/evaluation/ground_truth_midRT/180_midRT_mask.nii.gz', '/homes/nmoradi/test/evaluation/ground_truth_midRT/10_midRT_mask.nii.gz']\n"
     ]
    }
   ],
   "source": [
    "# first set up the ground truth and prediction paths\n",
    "\n",
    "prediction_files = [os.path.join(prediction_folder, file) for file in os.listdir(prediction_folder) if \"nii.gz\" in file]\n",
    "groundtruth_files = [os.path.join(groundtruth_folder, file) for file in os.listdir(groundtruth_folder) if \"nii.gz\" in file]\n",
    "\n",
    "print(\"Prediction files\", prediction_files, \"\\n\")\n",
    "\n",
    "print(\"Ground truth files\", groundtruth_files)"
   ]
  },
  {
   "cell_type": "markdown",
   "metadata": {},
   "source": [
    "Please note in the below code some warnings (LabelOverlapMeasuresImageFilter) are thrown because there is no label in the ground truth file and the prediction file. This is not an error and expected behavior for the given setup."
   ]
  },
  {
   "cell_type": "code",
   "execution_count": 5,
   "metadata": {},
   "outputs": [
    {
     "name": "stdout",
     "output_type": "stream",
     "text": [
      "145\n",
      "Evaluating patient 145\n",
      "Patient 145: Prediction checked, everything correct and no resampling needed.\n"
     ]
    },
    {
     "name": "stdout",
     "output_type": "stream",
     "text": [
      "150\n",
      "Evaluating patient 150\n",
      "Patient 150: Prediction checked, everything correct and no resampling needed.\n",
      "41\n",
      "Evaluating patient 41\n",
      "Patient 41: Prediction checked, everything correct and no resampling needed.\n",
      "75\n",
      "Evaluating patient 75\n",
      "Patient 75: Prediction checked, everything correct and no resampling needed.\n",
      "60\n",
      "Evaluating patient 60\n",
      "Patient 60: Prediction checked, everything correct and no resampling needed.\n",
      "171\n",
      "Evaluating patient 171\n",
      "Patient 171: Prediction checked, everything correct and no resampling needed.\n"
     ]
    },
    {
     "name": "stderr",
     "output_type": "stream",
     "text": [
      "WARNING: In /tmp/SimpleITK-build/ITK-prefix/include/ITK-5.3/itkLabelOverlapMeasuresImageFilter.hxx, line 233\n",
      "LabelOverlapMeasuresImageFilter (0x56144d43c6e0): Label \u0002 not found.\n",
      "\n"
     ]
    },
    {
     "name": "stdout",
     "output_type": "stream",
     "text": [
      "164\n",
      "Evaluating patient 164\n",
      "Patient 164: Prediction checked, everything correct and no resampling needed.\n"
     ]
    },
    {
     "name": "stderr",
     "output_type": "stream",
     "text": [
      "WARNING: In /tmp/SimpleITK-build/ITK-prefix/include/ITK-5.3/itkLabelOverlapMeasuresImageFilter.hxx, line 233\n",
      "LabelOverlapMeasuresImageFilter (0x56144d43c6e0): Label \u0002 not found.\n",
      "\n"
     ]
    },
    {
     "name": "stdout",
     "output_type": "stream",
     "text": [
      "133\n",
      "Evaluating patient 133\n",
      "Patient 133: Prediction checked, everything correct and no resampling needed.\n",
      "37\n",
      "Evaluating patient 37\n",
      "Patient 37: Prediction checked, everything correct and no resampling needed.\n",
      "6\n",
      "Evaluating patient 6\n",
      "Patient 6: Prediction checked, everything correct and no resampling needed.\n",
      "119\n",
      "Evaluating patient 119\n",
      "Patient 119: Prediction checked, everything correct and no resampling needed.\n",
      "22\n",
      "Evaluating patient 22\n",
      "Patient 22: Prediction checked, everything correct and no resampling needed.\n"
     ]
    },
    {
     "name": "stderr",
     "output_type": "stream",
     "text": [
      "WARNING: In /tmp/SimpleITK-build/ITK-prefix/include/ITK-5.3/itkLabelOverlapMeasuresImageFilter.hxx, line 233\n",
      "LabelOverlapMeasuresImageFilter (0x56144d43c6e0): Label \u0002 not found.\n",
      "\n"
     ]
    },
    {
     "name": "stdout",
     "output_type": "stream",
     "text": [
      "190\n",
      "Evaluating patient 190\n",
      "Patient 190: Prediction checked, everything correct and no resampling needed.\n"
     ]
    },
    {
     "name": "stderr",
     "output_type": "stream",
     "text": [
      "WARNING: In /tmp/SimpleITK-build/ITK-prefix/include/ITK-5.3/itkLabelOverlapMeasuresImageFilter.hxx, line 233\n",
      "LabelOverlapMeasuresImageFilter (0x56144d43c6e0): Label \u0001 not found.\n",
      "\n"
     ]
    },
    {
     "name": "stdout",
     "output_type": "stream",
     "text": [
      "138\n",
      "Evaluating patient 138\n",
      "Patient 138: Prediction checked, everything correct and no resampling needed.\n",
      "185\n",
      "Evaluating patient 185\n",
      "Patient 185: Prediction checked, everything correct and no resampling needed.\n",
      "107\n",
      "Evaluating patient 107\n",
      "Patient 107: Prediction checked, everything correct and no resampling needed.\n"
     ]
    },
    {
     "name": "stderr",
     "output_type": "stream",
     "text": [
      "WARNING: In /tmp/SimpleITK-build/ITK-prefix/include/ITK-5.3/itkLabelOverlapMeasuresImageFilter.hxx, line 233\n",
      "LabelOverlapMeasuresImageFilter (0x56144d43c6e0): Label \u0001 not found.\n",
      "\n"
     ]
    },
    {
     "name": "stdout",
     "output_type": "stream",
     "text": [
      "29\n",
      "Evaluating patient 29\n",
      "Patient 29: Prediction checked, everything correct and no resampling needed.\n"
     ]
    },
    {
     "name": "stderr",
     "output_type": "stream",
     "text": [
      "WARNING: In /tmp/SimpleITK-build/ITK-prefix/include/ITK-5.3/itkLabelOverlapMeasuresImageFilter.hxx, line 233\n",
      "LabelOverlapMeasuresImageFilter (0x56144d43c6e0): Label \u0002 not found.\n",
      "\n"
     ]
    },
    {
     "name": "stdout",
     "output_type": "stream",
     "text": [
      "94\n",
      "Evaluating patient 94\n",
      "Patient 94: Prediction checked, everything correct and no resampling needed.\n"
     ]
    },
    {
     "name": "stderr",
     "output_type": "stream",
     "text": [
      "WARNING: In /tmp/SimpleITK-build/ITK-prefix/include/ITK-5.3/itkLabelOverlapMeasuresImageFilter.hxx, line 233\n",
      "LabelOverlapMeasuresImageFilter (0x56144d43c6e0): Label \u0001 not found.\n",
      "\n"
     ]
    },
    {
     "name": "stdout",
     "output_type": "stream",
     "text": [
      "112\n",
      "Evaluating patient 112\n",
      "Patient 112: Prediction checked, everything correct and no resampling needed.\n",
      "81\n",
      "Evaluating patient 81\n",
      "Patient 81: Prediction checked, everything correct and no resampling needed.\n",
      "101\n",
      "Evaluating patient 101\n",
      "Patient 101: Prediction checked, everything correct and no resampling needed.\n",
      "114\n",
      "Evaluating patient 114\n",
      "Patient 114: Prediction checked, everything correct and no resampling needed.\n",
      "196\n",
      "Evaluating patient 196\n",
      "Patient 196: Prediction checked, everything correct and no resampling needed.\n",
      "183\n",
      "Evaluating patient 183\n",
      "Patient 183: Prediction checked, everything correct and no resampling needed.\n"
     ]
    },
    {
     "name": "stderr",
     "output_type": "stream",
     "text": [
      "WARNING: In /tmp/SimpleITK-build/ITK-prefix/include/ITK-5.3/itkLabelOverlapMeasuresImageFilter.hxx, line 233\n",
      "LabelOverlapMeasuresImageFilter (0x56144d43c6e0): Label \u0002 not found.\n",
      "\n"
     ]
    },
    {
     "name": "stdout",
     "output_type": "stream",
     "text": [
      "10\n",
      "Evaluating patient 10\n",
      "Patient 10: Prediction checked, everything correct and no resampling needed.\n",
      "31\n",
      "Evaluating patient 31\n",
      "Patient 31: Prediction checked, everything correct and no resampling needed.\n",
      "24\n",
      "Evaluating patient 24\n",
      "Patient 24: Prediction checked, everything correct and no resampling needed.\n",
      "99\n",
      "Evaluating patient 99\n",
      "Patient 99: Prediction checked, everything correct and no resampling needed.\n",
      "135\n",
      "Evaluating patient 135\n",
      "Patient 135: Prediction checked, everything correct and no resampling needed.\n",
      "188\n",
      "Evaluating patient 188\n",
      "Patient 188: Prediction checked, everything correct and no resampling needed.\n"
     ]
    },
    {
     "name": "stderr",
     "output_type": "stream",
     "text": [
      "WARNING: In /tmp/SimpleITK-build/ITK-prefix/include/ITK-5.3/itkLabelOverlapMeasuresImageFilter.hxx, line 233\n",
      "LabelOverlapMeasuresImageFilter (0x56144d43c6e0): Label \u0001 not found.\n",
      "\n"
     ]
    },
    {
     "name": "stdout",
     "output_type": "stream",
     "text": [
      "177\n",
      "Evaluating patient 177\n",
      "Patient 177: Prediction checked, everything correct and no resampling needed.\n"
     ]
    },
    {
     "name": "stderr",
     "output_type": "stream",
     "text": [
      "WARNING: In /tmp/SimpleITK-build/ITK-prefix/include/ITK-5.3/itkLabelOverlapMeasuresImageFilter.hxx, line 233\n",
      "LabelOverlapMeasuresImageFilter (0x56144d43c6e0): Label \u0001 not found.\n",
      "\n"
     ]
    },
    {
     "name": "stdout",
     "output_type": "stream",
     "text": [
      "66\n",
      "Evaluating patient 66\n",
      "Patient 66: Prediction checked, everything correct and no resampling needed.\n",
      "148\n",
      "Evaluating patient 148\n",
      "Patient 148: Prediction checked, everything correct and no resampling needed.\n"
     ]
    },
    {
     "name": "stderr",
     "output_type": "stream",
     "text": [
      "WARNING: In /tmp/SimpleITK-build/ITK-prefix/include/ITK-5.3/itkLabelOverlapMeasuresImageFilter.hxx, line 233\n",
      "LabelOverlapMeasuresImageFilter (0x56144d43c6e0): Label \u0001 not found.\n",
      "\n"
     ]
    },
    {
     "name": "stdout",
     "output_type": "stream",
     "text": [
      "47\n",
      "Evaluating patient 47\n",
      "Patient 47: Prediction checked, everything correct and no resampling needed.\n"
     ]
    },
    {
     "name": "stderr",
     "output_type": "stream",
     "text": [
      "WARNING: In /tmp/SimpleITK-build/ITK-prefix/include/ITK-5.3/itkLabelOverlapMeasuresImageFilter.hxx, line 233\n",
      "LabelOverlapMeasuresImageFilter (0x56144d43c6e0): Label \u0001 not found.\n",
      "\n"
     ]
    },
    {
     "name": "stdout",
     "output_type": "stream",
     "text": [
      "169\n",
      "Evaluating patient 169\n",
      "Patient 169: Prediction checked, everything correct and no resampling needed.\n",
      "52\n",
      "Evaluating patient 52\n",
      "Patient 52: Prediction checked, everything correct and no resampling needed.\n"
     ]
    },
    {
     "name": "stderr",
     "output_type": "stream",
     "text": [
      "WARNING: In /tmp/SimpleITK-build/ITK-prefix/include/ITK-5.3/itkLabelOverlapMeasuresImageFilter.hxx, line 233\n",
      "LabelOverlapMeasuresImageFilter (0x56144d43c6e0): Label \u0001 not found.\n",
      "\n"
     ]
    },
    {
     "name": "stdout",
     "output_type": "stream",
     "text": [
      "156\n",
      "Evaluating patient 156\n",
      "Patient 156: Prediction checked, everything correct and no resampling needed.\n"
     ]
    },
    {
     "name": "stderr",
     "output_type": "stream",
     "text": [
      "WARNING: In /tmp/SimpleITK-build/ITK-prefix/include/ITK-5.3/itkLabelOverlapMeasuresImageFilter.hxx, line 233\n",
      "LabelOverlapMeasuresImageFilter (0x56144d43c6e0): Label \u0002 not found.\n",
      "\n"
     ]
    },
    {
     "name": "stdout",
     "output_type": "stream",
     "text": [
      "78\n",
      "Evaluating patient 78\n",
      "Patient 78: Prediction checked, everything correct and no resampling needed.\n",
      "170\n",
      "Evaluating patient 170\n",
      "Patient 170: Prediction checked, everything correct and no resampling needed.\n"
     ]
    },
    {
     "name": "stderr",
     "output_type": "stream",
     "text": [
      "WARNING: In /tmp/SimpleITK-build/ITK-prefix/include/ITK-5.3/itkLabelOverlapMeasuresImageFilter.hxx, line 233\n",
      "LabelOverlapMeasuresImageFilter (0x56144d43c6e0): Label \u0002 not found.\n",
      "\n"
     ]
    },
    {
     "name": "stdout",
     "output_type": "stream",
     "text": [
      "165\n",
      "Evaluating patient 165\n",
      "Patient 165: Prediction checked, everything correct and no resampling needed.\n",
      "74\n",
      "Evaluating patient 74\n",
      "Patient 74: Prediction checked, everything correct and no resampling needed.\n",
      "61\n",
      "Evaluating patient 61\n",
      "Patient 61: Prediction checked, everything correct and no resampling needed.\n",
      "55\n",
      "Evaluating patient 55\n",
      "Patient 55: Prediction checked, everything correct and no resampling needed.\n"
     ]
    },
    {
     "name": "stderr",
     "output_type": "stream",
     "text": [
      "WARNING: In /tmp/SimpleITK-build/ITK-prefix/include/ITK-5.3/itkLabelOverlapMeasuresImageFilter.hxx, line 233\n",
      "LabelOverlapMeasuresImageFilter (0x56144d43c6e0): Label \u0002 not found.\n",
      "\n"
     ]
    },
    {
     "name": "stdout",
     "output_type": "stream",
     "text": [
      "144\n",
      "Evaluating patient 144\n",
      "Patient 144: Prediction checked, everything correct and no resampling needed.\n",
      "151\n",
      "Evaluating patient 151\n",
      "Patient 151: Prediction checked, everything correct and no resampling needed.\n",
      "95\n",
      "Evaluating patient 95\n",
      "Patient 95: Prediction checked, everything correct and no resampling needed.\n"
     ]
    },
    {
     "name": "stderr",
     "output_type": "stream",
     "text": [
      "WARNING: In /tmp/SimpleITK-build/ITK-prefix/include/ITK-5.3/itkLabelOverlapMeasuresImageFilter.hxx, line 233\n",
      "LabelOverlapMeasuresImageFilter (0x56144d43c6e0): Label \u0001 not found.\n",
      "\n"
     ]
    },
    {
     "name": "stdout",
     "output_type": "stream",
     "text": [
      "80\n",
      "Evaluating patient 80\n",
      "Patient 80: Prediction checked, everything correct and no resampling needed.\n"
     ]
    },
    {
     "name": "stderr",
     "output_type": "stream",
     "text": [
      "WARNING: In /tmp/SimpleITK-build/ITK-prefix/include/ITK-5.3/itkLabelOverlapMeasuresImageFilter.hxx, line 233\n",
      "LabelOverlapMeasuresImageFilter (0x56144d43c6e0): Label \u0002 not found.\n",
      "\n"
     ]
    },
    {
     "name": "stdout",
     "output_type": "stream",
     "text": [
      "113\n",
      "Evaluating patient 113\n",
      "Patient 113: Prediction checked, everything correct and no resampling needed.\n",
      "191\n",
      "Evaluating patient 191\n",
      "Patient 191: Prediction checked, everything correct and no resampling needed.\n",
      "139\n",
      "Evaluating patient 139\n",
      "Patient 139: Prediction checked, everything correct and no resampling needed.\n"
     ]
    },
    {
     "name": "stderr",
     "output_type": "stream",
     "text": [
      "WARNING: In /tmp/SimpleITK-build/ITK-prefix/include/ITK-5.3/itkLabelOverlapMeasuresImageFilter.hxx, line 233\n",
      "LabelOverlapMeasuresImageFilter (0x56144d43c6e0): Label \u0001 not found.\n",
      "\n"
     ]
    },
    {
     "name": "stdout",
     "output_type": "stream",
     "text": [
      "184\n",
      "Evaluating patient 184\n",
      "Patient 184: Prediction checked, everything correct and no resampling needed.\n",
      "17\n",
      "Evaluating patient 17\n",
      "Patient 17: Prediction checked, everything correct and no resampling needed.\n",
      "118\n",
      "Evaluating patient 118\n",
      "Patient 118: Prediction checked, everything correct and no resampling needed.\n"
     ]
    },
    {
     "name": "stderr",
     "output_type": "stream",
     "text": [
      "WARNING: In /tmp/SimpleITK-build/ITK-prefix/include/ITK-5.3/itkLabelOverlapMeasuresImageFilter.hxx, line 233\n",
      "LabelOverlapMeasuresImageFilter (0x56144d43c6e0): Label \u0001 not found.\n",
      "\n"
     ]
    },
    {
     "name": "stdout",
     "output_type": "stream",
     "text": [
      "36\n",
      "Evaluating patient 36\n",
      "Patient 36: Prediction checked, everything correct and no resampling needed.\n",
      "23\n",
      "Evaluating patient 23\n",
      "Patient 23: Prediction checked, everything correct and no resampling needed.\n"
     ]
    },
    {
     "name": "stderr",
     "output_type": "stream",
     "text": [
      "WARNING: In /tmp/SimpleITK-build/ITK-prefix/include/ITK-5.3/itkLabelOverlapMeasuresImageFilter.hxx, line 233\n",
      "LabelOverlapMeasuresImageFilter (0x56144d43c6e0): Label \u0002 not found.\n",
      "\n"
     ]
    },
    {
     "name": "stdout",
     "output_type": "stream",
     "text": [
      "132\n",
      "Evaluating patient 132\n",
      "Patient 132: Prediction checked, everything correct and no resampling needed.\n"
     ]
    },
    {
     "name": "stderr",
     "output_type": "stream",
     "text": [
      "WARNING: In /tmp/SimpleITK-build/ITK-prefix/include/ITK-5.3/itkLabelOverlapMeasuresImageFilter.hxx, line 233\n",
      "LabelOverlapMeasuresImageFilter (0x56144d43c6e0): Label \u0002 not found.\n",
      "\n"
     ]
    },
    {
     "name": "stdout",
     "output_type": "stream",
     "text": [
      "127\n",
      "Evaluating patient 127\n",
      "Patient 127: Prediction checked, everything correct and no resampling needed.\n",
      "30\n",
      "Evaluating patient 30\n",
      "Patient 30: Prediction checked, everything correct and no resampling needed.\n",
      "25\n",
      "Evaluating patient 25\n",
      "Patient 25: Prediction checked, everything correct and no resampling needed.\n"
     ]
    },
    {
     "name": "stderr",
     "output_type": "stream",
     "text": [
      "WARNING: In /tmp/SimpleITK-build/ITK-prefix/include/ITK-5.3/itkLabelOverlapMeasuresImageFilter.hxx, line 233\n",
      "LabelOverlapMeasuresImageFilter (0x56144d43c6e0): Label \u0002 not found.\n",
      "\n"
     ]
    },
    {
     "name": "stdout",
     "output_type": "stream",
     "text": [
      "197\n",
      "Evaluating patient 197\n",
      "Patient 197: Prediction checked, everything correct and no resampling needed.\n"
     ]
    },
    {
     "name": "stderr",
     "output_type": "stream",
     "text": [
      "WARNING: In /tmp/SimpleITK-build/ITK-prefix/include/ITK-5.3/itkLabelOverlapMeasuresImageFilter.hxx, line 233\n",
      "LabelOverlapMeasuresImageFilter (0x56144d43c6e0): Label \u0002 not found.\n",
      "\n"
     ]
    },
    {
     "name": "stdout",
     "output_type": "stream",
     "text": [
      "11\n",
      "Evaluating patient 11\n",
      "Patient 11: Prediction checked, everything correct and no resampling needed.\n",
      "93\n",
      "Evaluating patient 93\n",
      "Patient 93: Prediction checked, everything correct and no resampling needed.\n",
      "115\n",
      "Evaluating patient 115\n",
      "Patient 115: Prediction checked, everything correct and no resampling needed.\n",
      "86\n",
      "Evaluating patient 86\n",
      "Patient 86: Prediction checked, everything correct and no resampling needed.\n",
      "142\n",
      "Evaluating patient 142\n",
      "Patient 142: Prediction checked, everything correct and no resampling needed.\n",
      "79\n",
      "Evaluating patient 79\n",
      "Patient 79: Prediction checked, everything correct and no resampling needed.\n",
      "157\n",
      "Evaluating patient 157\n",
      "Patient 157: Prediction checked, everything correct and no resampling needed.\n",
      "46\n",
      "Evaluating patient 46\n",
      "Patient 46: Prediction checked, everything correct and no resampling needed.\n",
      "53\n",
      "Evaluating patient 53\n",
      "Patient 53: Prediction checked, everything correct and no resampling needed.\n",
      "201\n",
      "Evaluating patient 201\n",
      "Patient 201: Prediction checked, everything correct and no resampling needed.\n",
      "149\n",
      "Evaluating patient 149\n",
      "Patient 149: Prediction checked, everything correct and no resampling needed.\n",
      "67\n",
      "Evaluating patient 67\n",
      "Patient 67: Prediction checked, everything correct and no resampling needed.\n",
      "58\n",
      "Evaluating patient 58\n",
      "Patient 58: Prediction checked, everything correct and no resampling needed.\n",
      "176\n",
      "Evaluating patient 176\n",
      "Patient 176: Prediction checked, everything correct and no resampling needed.\n",
      "163\n",
      "Evaluating patient 163\n",
      "Patient 163: Prediction checked, everything correct and no resampling needed.\n",
      "14\n",
      "Evaluating patient 14\n",
      "Patient 14: Prediction checked, everything correct and no resampling needed.\n",
      "187\n",
      "Evaluating patient 187\n",
      "Patient 187: Prediction checked, everything correct and no resampling needed.\n"
     ]
    },
    {
     "name": "stderr",
     "output_type": "stream",
     "text": [
      "WARNING: In /tmp/SimpleITK-build/ITK-prefix/include/ITK-5.3/itkLabelOverlapMeasuresImageFilter.hxx, line 233\n",
      "LabelOverlapMeasuresImageFilter (0x56144d43c6e0): Label \u0001 not found.\n",
      "\n"
     ]
    },
    {
     "name": "stdout",
     "output_type": "stream",
     "text": [
      "110\n",
      "Evaluating patient 110\n",
      "Patient 110: Prediction checked, everything correct and no resampling needed.\n",
      "83\n",
      "Evaluating patient 83\n",
      "Patient 83: Prediction checked, everything correct and no resampling needed.\n",
      "105\n",
      "Evaluating patient 105\n",
      "Patient 105: Prediction checked, everything correct and no resampling needed.\n"
     ]
    },
    {
     "name": "stderr",
     "output_type": "stream",
     "text": [
      "WARNING: In /tmp/SimpleITK-build/ITK-prefix/include/ITK-5.3/itkLabelOverlapMeasuresImageFilter.hxx, line 233\n",
      "LabelOverlapMeasuresImageFilter (0x56144d43c6e0): Label \u0001 not found.\n",
      "\n"
     ]
    },
    {
     "name": "stdout",
     "output_type": "stream",
     "text": [
      "96\n",
      "Evaluating patient 96\n",
      "Patient 96: Prediction checked, everything correct and no resampling needed.\n",
      "131\n",
      "Evaluating patient 131\n",
      "Patient 131: Prediction checked, everything correct and no resampling needed.\n",
      "20\n",
      "Evaluating patient 20\n",
      "Patient 20: Prediction checked, everything correct and no resampling needed.\n",
      "88\n",
      "Evaluating patient 88\n",
      "Patient 88: Prediction checked, everything correct and no resampling needed.\n",
      "4\n",
      "Evaluating patient 4\n",
      "Patient 4: Prediction checked, everything correct and no resampling needed.\n",
      "159\n",
      "Evaluating patient 159\n",
      "Patient 159: Prediction checked, everything correct and no resampling needed.\n",
      "77\n",
      "Evaluating patient 77\n",
      "Patient 77: Prediction checked, everything correct and no resampling needed.\n"
     ]
    },
    {
     "name": "stderr",
     "output_type": "stream",
     "text": [
      "WARNING: In /tmp/SimpleITK-build/ITK-prefix/include/ITK-5.3/itkLabelOverlapMeasuresImageFilter.hxx, line 233\n",
      "LabelOverlapMeasuresImageFilter (0x56144d43c6e0): Label \u0002 not found.\n",
      "\n"
     ]
    },
    {
     "name": "stdout",
     "output_type": "stream",
     "text": [
      "48\n",
      "Evaluating patient 48\n",
      "Patient 48: Prediction checked, everything correct and no resampling needed.\n"
     ]
    },
    {
     "name": "stderr",
     "output_type": "stream",
     "text": [
      "WARNING: In /tmp/SimpleITK-build/ITK-prefix/include/ITK-5.3/itkLabelOverlapMeasuresImageFilter.hxx, line 233\n",
      "LabelOverlapMeasuresImageFilter (0x56144d43c6e0): Label \u0001 not found.\n",
      "\n"
     ]
    },
    {
     "name": "stdout",
     "output_type": "stream",
     "text": [
      "166\n",
      "Evaluating patient 166\n",
      "Patient 166: Prediction checked, everything correct and no resampling needed.\n",
      "173\n",
      "Evaluating patient 173\n",
      "Patient 173: Prediction checked, everything correct and no resampling needed.\n",
      "152\n",
      "Evaluating patient 152\n",
      "Patient 152: Prediction checked, everything correct and no resampling needed.\n"
     ]
    },
    {
     "name": "stderr",
     "output_type": "stream",
     "text": [
      "WARNING: In /tmp/SimpleITK-build/ITK-prefix/include/ITK-5.3/itkLabelOverlapMeasuresImageFilter.hxx, line 233\n",
      "LabelOverlapMeasuresImageFilter (0x56144d43c6e0): Label \u0001 not found.\n",
      "\n"
     ]
    },
    {
     "name": "stdout",
     "output_type": "stream",
     "text": [
      "69\n",
      "Evaluating patient 69\n",
      "Patient 69: Prediction checked, everything correct and no resampling needed.\n",
      "178\n",
      "Evaluating patient 178\n",
      "Patient 178: Prediction checked, everything correct and no resampling needed.\n"
     ]
    },
    {
     "name": "stderr",
     "output_type": "stream",
     "text": [
      "WARNING: In /tmp/SimpleITK-build/ITK-prefix/include/ITK-5.3/itkLabelOverlapMeasuresImageFilter.hxx, line 233\n",
      "LabelOverlapMeasuresImageFilter (0x56144d43c6e0): Label \u0002 not found.\n",
      "\n"
     ]
    },
    {
     "name": "stdout",
     "output_type": "stream",
     "text": [
      "56\n",
      "Evaluating patient 56\n",
      "Patient 56: Prediction checked, everything correct and no resampling needed.\n",
      "50\n",
      "Evaluating patient 50\n",
      "Patient 50: Prediction checked, everything correct and no resampling needed.\n",
      "45\n",
      "Evaluating patient 45\n",
      "Patient 45: Prediction checked, everything correct and no resampling needed.\n"
     ]
    },
    {
     "name": "stderr",
     "output_type": "stream",
     "text": [
      "WARNING: In /tmp/SimpleITK-build/ITK-prefix/include/ITK-5.3/itkLabelOverlapMeasuresImageFilter.hxx, line 233\n",
      "LabelOverlapMeasuresImageFilter (0x56144d43c6e0): Label \u0001 not found.\n",
      "\n"
     ]
    },
    {
     "name": "stdout",
     "output_type": "stream",
     "text": [
      "154\n",
      "Evaluating patient 154\n",
      "Patient 154: Prediction checked, everything correct and no resampling needed.\n",
      "141\n",
      "Evaluating patient 141\n",
      "Patient 141: Prediction checked, everything correct and no resampling needed.\n",
      "175\n",
      "Evaluating patient 175\n",
      "Patient 175: Prediction checked, everything correct and no resampling needed.\n",
      "64\n",
      "Evaluating patient 64\n",
      "Patient 64: Prediction checked, everything correct and no resampling needed.\n"
     ]
    },
    {
     "name": "stderr",
     "output_type": "stream",
     "text": [
      "WARNING: In /tmp/SimpleITK-build/ITK-prefix/include/ITK-5.3/itkLabelOverlapMeasuresImageFilter.hxx, line 233\n",
      "LabelOverlapMeasuresImageFilter (0x56144d43c6e0): Label \u0002 not found.\n",
      "\n"
     ]
    },
    {
     "name": "stdout",
     "output_type": "stream",
     "text": [
      "71\n",
      "Evaluating patient 71\n",
      "Patient 71: Prediction checked, everything correct and no resampling needed.\n",
      "108\n",
      "Evaluating patient 108\n",
      "Patient 108: Prediction checked, everything correct and no resampling needed.\n",
      "26\n",
      "Evaluating patient 26\n",
      "Patient 26: Prediction checked, everything correct and no resampling needed.\n",
      "33\n",
      "Evaluating patient 33\n",
      "Patient 33: Prediction checked, everything correct and no resampling needed.\n",
      "2\n",
      "Evaluating patient 2\n",
      "Patient 2: Prediction checked, everything correct and no resampling needed.\n",
      "122\n",
      "Evaluating patient 122\n",
      "Patient 122: Prediction checked, everything correct and no resampling needed.\n",
      "116\n",
      "Evaluating patient 116\n",
      "Patient 116: Prediction checked, everything correct and no resampling needed.\n",
      "90\n",
      "Evaluating patient 90\n",
      "Patient 90: Prediction checked, everything correct and no resampling needed.\n",
      "103\n",
      "Evaluating patient 103\n",
      "Patient 103: Prediction checked, everything correct and no resampling needed.\n",
      "181\n",
      "Evaluating patient 181\n",
      "Patient 181: Prediction checked, everything correct and no resampling needed.\n"
     ]
    },
    {
     "name": "stderr",
     "output_type": "stream",
     "text": [
      "WARNING: In /tmp/SimpleITK-build/ITK-prefix/include/ITK-5.3/itkLabelOverlapMeasuresImageFilter.hxx, line 233\n",
      "LabelOverlapMeasuresImageFilter (0x56144d43c6e0): Label \u0002 not found.\n",
      "\n"
     ]
    },
    {
     "name": "stdout",
     "output_type": "stream",
     "text": [
      "12\n",
      "Evaluating patient 12\n",
      "Patient 12: Prediction checked, everything correct and no resampling needed.\n",
      "194\n",
      "Evaluating patient 194\n",
      "Patient 194: Prediction checked, everything correct and no resampling needed.\n",
      "129\n",
      "Evaluating patient 129\n",
      "Patient 129: Prediction checked, everything correct and no resampling needed.\n"
     ]
    },
    {
     "name": "stderr",
     "output_type": "stream",
     "text": [
      "WARNING: In /tmp/SimpleITK-build/ITK-prefix/include/ITK-5.3/itkLabelOverlapMeasuresImageFilter.hxx, line 233\n",
      "LabelOverlapMeasuresImageFilter (0x56144d43c6e0): Label \u0001 not found.\n",
      "\n"
     ]
    },
    {
     "name": "stdout",
     "output_type": "stream",
     "text": [
      "21\n",
      "Evaluating patient 21\n",
      "Patient 21: Prediction checked, everything correct and no resampling needed.\n"
     ]
    },
    {
     "name": "stderr",
     "output_type": "stream",
     "text": [
      "WARNING: In /tmp/SimpleITK-build/ITK-prefix/include/ITK-5.3/itkLabelOverlapMeasuresImageFilter.hxx, line 233\n",
      "LabelOverlapMeasuresImageFilter (0x56144d43c6e0): Label \u0002 not found.\n",
      "\n"
     ]
    },
    {
     "name": "stdout",
     "output_type": "stream",
     "text": [
      "5\n",
      "Evaluating patient 5\n",
      "Patient 5: Prediction checked, everything correct and no resampling needed.\n"
     ]
    },
    {
     "name": "stderr",
     "output_type": "stream",
     "text": [
      "WARNING: In /tmp/SimpleITK-build/ITK-prefix/include/ITK-5.3/itkLabelOverlapMeasuresImageFilter.hxx, line 233\n",
      "LabelOverlapMeasuresImageFilter (0x56144d43c6e0): Label \u0001 not found.\n",
      "\n"
     ]
    },
    {
     "name": "stdout",
     "output_type": "stream",
     "text": [
      "34\n",
      "Evaluating patient 34\n",
      "Patient 34: Prediction checked, everything correct and no resampling needed.\n"
     ]
    },
    {
     "name": "stderr",
     "output_type": "stream",
     "text": [
      "WARNING: In /tmp/SimpleITK-build/ITK-prefix/include/ITK-5.3/itkLabelOverlapMeasuresImageFilter.hxx, line 233\n",
      "LabelOverlapMeasuresImageFilter (0x56144d43c6e0): Label \u0001 not found.\n",
      "\n"
     ]
    },
    {
     "name": "stdout",
     "output_type": "stream",
     "text": [
      "198\n",
      "Evaluating patient 198\n",
      "Patient 198: Prediction checked, everything correct and no resampling needed.\n",
      "125\n",
      "Evaluating patient 125\n",
      "Patient 125: Prediction checked, everything correct and no resampling needed.\n",
      "130\n",
      "Evaluating patient 130\n",
      "Patient 130: Prediction checked, everything correct and no resampling needed.\n",
      "82\n",
      "Evaluating patient 82\n",
      "Patient 82: Prediction checked, everything correct and no resampling needed.\n",
      "111\n",
      "Evaluating patient 111\n",
      "Patient 111: Prediction checked, everything correct and no resampling needed.\n",
      "104\n",
      "Evaluating patient 104\n",
      "Patient 104: Prediction checked, everything correct and no resampling needed.\n",
      "193\n",
      "Evaluating patient 193\n",
      "Patient 193: Prediction checked, everything correct and no resampling needed.\n",
      "57\n",
      "Evaluating patient 57\n",
      "Patient 57: Prediction checked, everything correct and no resampling needed.\n",
      "179\n",
      "Evaluating patient 179\n",
      "Patient 179: Prediction checked, everything correct and no resampling needed.\n"
     ]
    },
    {
     "name": "stderr",
     "output_type": "stream",
     "text": [
      "WARNING: In /tmp/SimpleITK-build/ITK-prefix/include/ITK-5.3/itkLabelOverlapMeasuresImageFilter.hxx, line 233\n",
      "LabelOverlapMeasuresImageFilter (0x56144d43c6e0): Label \u0002 not found.\n",
      "\n"
     ]
    },
    {
     "name": "stdout",
     "output_type": "stream",
     "text": [
      "42\n",
      "Evaluating patient 42\n",
      "Patient 42: Prediction checked, everything correct and no resampling needed.\n"
     ]
    },
    {
     "name": "stderr",
     "output_type": "stream",
     "text": [
      "WARNING: In /tmp/SimpleITK-build/ITK-prefix/include/ITK-5.3/itkLabelOverlapMeasuresImageFilter.hxx, line 233\n",
      "LabelOverlapMeasuresImageFilter (0x56144d43c6e0): Label \u0002 not found.\n",
      "\n"
     ]
    },
    {
     "name": "stdout",
     "output_type": "stream",
     "text": [
      "153\n",
      "Evaluating patient 153\n",
      "Patient 153: Prediction checked, everything correct and no resampling needed.\n",
      "146\n",
      "Evaluating patient 146\n",
      "Patient 146: Prediction checked, everything correct and no resampling needed.\n",
      "49\n",
      "Evaluating patient 49\n",
      "Patient 49: Prediction checked, everything correct and no resampling needed.\n",
      "172\n",
      "Evaluating patient 172\n",
      "Patient 172: Prediction checked, everything correct and no resampling needed.\n",
      "63\n",
      "Evaluating patient 63\n",
      "Patient 63: Prediction checked, everything correct and no resampling needed.\n",
      "158\n",
      "Evaluating patient 158\n",
      "Patient 158: Prediction checked, everything correct and no resampling needed.\n",
      "70\n",
      "Evaluating patient 70\n",
      "Patient 70: Prediction checked, everything correct and no resampling needed.\n",
      "161\n",
      "Evaluating patient 161\n",
      "Patient 161: Prediction checked, everything correct and no resampling needed.\n",
      "174\n",
      "Evaluating patient 174\n",
      "Patient 174: Prediction checked, everything correct and no resampling needed.\n",
      "155\n",
      "Evaluating patient 155\n",
      "Patient 155: Prediction checked, everything correct and no resampling needed.\n",
      "44\n",
      "Evaluating patient 44\n",
      "Patient 44: Prediction checked, everything correct and no resampling needed.\n",
      "13\n",
      "Evaluating patient 13\n",
      "Patient 13: Prediction checked, everything correct and no resampling needed.\n",
      "180\n",
      "Evaluating patient 180\n",
      "Patient 180: Prediction checked, everything correct and no resampling needed.\n",
      "195\n",
      "Evaluating patient 195\n",
      "Patient 195: Prediction checked, everything correct and no resampling needed.\n",
      "84\n",
      "Evaluating patient 84\n",
      "Patient 84: Prediction checked, everything correct and no resampling needed.\n",
      "8\n",
      "Evaluating patient 8\n",
      "Patient 8: Prediction checked, everything correct and no resampling needed.\n"
     ]
    },
    {
     "name": "stderr",
     "output_type": "stream",
     "text": [
      "WARNING: In /tmp/SimpleITK-build/ITK-prefix/include/ITK-5.3/itkLabelOverlapMeasuresImageFilter.hxx, line 233\n",
      "LabelOverlapMeasuresImageFilter (0x56144d43c6e0): Label \u0001 not found.\n",
      "\n"
     ]
    },
    {
     "name": "stdout",
     "output_type": "stream",
     "text": [
      "39\n",
      "Evaluating patient 39\n",
      "Patient 39: Prediction checked, everything correct and no resampling needed.\n",
      "91\n",
      "Evaluating patient 91\n",
      "Patient 91: Prediction checked, everything correct and no resampling needed.\n",
      "136\n",
      "Evaluating patient 136\n",
      "Patient 136: Prediction checked, everything correct and no resampling needed.\n"
     ]
    },
    {
     "name": "stderr",
     "output_type": "stream",
     "text": [
      "WARNING: In /tmp/SimpleITK-build/ITK-prefix/include/ITK-5.3/itkLabelOverlapMeasuresImageFilter.hxx, line 233\n",
      "LabelOverlapMeasuresImageFilter (0x56144d43c6e0): Label \u0001 not found.\n",
      "\n"
     ]
    },
    {
     "name": "stdout",
     "output_type": "stream",
     "text": [
      "18\n",
      "Evaluating patient 18\n",
      "Patient 18: Prediction checked, everything correct and no resampling needed.\n"
     ]
    },
    {
     "name": "stderr",
     "output_type": "stream",
     "text": [
      "WARNING: In /tmp/SimpleITK-build/ITK-prefix/include/ITK-5.3/itkLabelOverlapMeasuresImageFilter.hxx, line 233\n",
      "LabelOverlapMeasuresImageFilter (0x56144d43c6e0): Label \u0001 not found.\n",
      "\n"
     ]
    },
    {
     "name": "stdout",
     "output_type": "stream",
     "text": [
      "27\n",
      "Evaluating patient 27\n",
      "Patient 27: Prediction checked, everything correct and no resampling needed.\n",
      "109\n",
      "Evaluating patient 109\n",
      "Patient 109: Prediction checked, everything correct and no resampling needed.\n",
      "32\n",
      "Evaluating patient 32\n",
      "Patient 32: Prediction checked, everything correct and no resampling needed.\n",
      "3\n",
      "Evaluating patient 3\n",
      "Patient 3: Prediction checked, everything correct and no resampling needed.\n"
     ]
    }
   ],
   "source": [
    "results = list()\n",
    "for f in prediction_files:\n",
    "    patient_ID = os.path.split(f)[-1].split('_')[0] # get the patient ID from the path \n",
    "    print(patient_ID)\n",
    "    gt_file = [k for k in groundtruth_files if os.path.split(k)[-1].split('_')[0] == patient_ID][0]\n",
    "\n",
    "    print(f\"Evaluating patient {patient_ID}\")\n",
    "\n",
    "    prediction = sitk.ReadImage(str(f))\n",
    "    groundtruth = sitk.ReadImage(str(gt_file))\n",
    "    prediction = check_prediction(patient_ID, groundtruth, prediction) \n",
    "\n",
    "\n",
    "    results.append(get_intermediate_metrics(patient_ID, groundtruth, prediction))"
   ]
  },
  {
   "cell_type": "markdown",
   "metadata": {},
   "source": [
    "Display aggregated DSC metrics. This is what will be used in the challenge evaluation/ranking."
   ]
  },
  {
   "cell_type": "code",
   "execution_count": null,
   "metadata": {},
   "outputs": [
    {
     "name": "stdout",
     "output_type": "stream",
     "text": [
      "The raw results are: [{'PatientID': '145', 'TP1': 760.0, 'TP2': 2649.5, 'vol_sum1': 3582.5, 'vol_sum2': 7218.0, 'DSC1': 0.424284717376134, 'DSC2': 0.7341368800221668, 'vol_gt1': 2738.0, 'vol_gt2': 3141.0}, {'PatientID': '150', 'TP1': 1093.0, 'TP2': 10777.0, 'vol_sum1': 7511.5, 'vol_sum2': 25254.0, 'DSC1': 0.29102043533249017, 'DSC2': 0.853488556268314, 'vol_gt1': 1998.0, 'vol_gt2': 12366.0}, {'PatientID': '41', 'TP1': 6464.000000000001, 'TP2': 837.0000000000001, 'vol_sum1': 20052.0, 'vol_sum2': 1960.5, 'DSC1': 0.644723718332336, 'DSC2': 0.8538638102524867, 'vol_gt1': 11849.5, 'vol_gt2': 1027.5}, {'PatientID': '75', 'TP1': 5606.500000000001, 'TP2': 2755.5, 'vol_sum1': 13894.5, 'vol_sum2': 6242.0, 'DSC1': 0.807009967972939, 'DSC2': 0.8828900993271387, 'vol_gt1': 6652.5, 'vol_gt2': 3090.5}, {'PatientID': '60', 'TP1': 3236.0, 'TP2': 12814.499999999998, 'vol_sum1': 9403.5, 'vol_sum2': 29053.5, 'DSC1': 0.688254373371617, 'DSC2': 0.8821312406422633, 'vol_gt1': 5589.5, 'vol_gt2': 14794.0}, {'PatientID': '171', 'TP1': 12881.0, 'TP2': 0.0, 'vol_sum1': 30246.5, 'vol_sum2': 0.0, 'DSC1': 0.851734911477361, 'DSC2': 0.0, 'vol_gt1': 16788.0, 'vol_gt2': 0.0}, {'PatientID': '164', 'TP1': 100.99999999999999, 'TP2': 0.0, 'vol_sum1': 1133.5, 'vol_sum2': 0.0, 'DSC1': 0.17820908689898543, 'DSC2': 0.0, 'vol_gt1': 496.0, 'vol_gt2': 0.0}, {'PatientID': '133', 'TP1': 3272.0000975131998, 'TP2': 2685.7600800418854, 'vol_sum1': 8989.760267915728, 'vol_sum2': 6466.560192718507, 'DSC1': 0.7279393443206493, 'DSC2': 0.830661124307205, 'vol_gt1': 3446.4001027107247, 'vol_gt2': 3026.5600901985176}, {'PatientID': '37', 'TP1': 9028.0, 'TP2': 865.0, 'vol_sum1': 27808.5, 'vol_sum2': 2012.0, 'DSC1': 0.6492978765485373, 'DSC2': 0.8598409542743539, 'vol_gt1': 17509.0, 'vol_gt2': 1008.5}, {'PatientID': '6', 'TP1': 5456.0, 'TP2': 1236.5, 'vol_sum1': 13480.5, 'vol_sum2': 3047.0, 'DSC1': 0.8094655242758058, 'DSC2': 0.8116179849031835, 'vol_gt1': 7880.5, 'vol_gt2': 1633.0}, {'PatientID': '119', 'TP1': 10774.5, 'TP2': 15914.0, 'vol_sum1': 27334.5, 'vol_sum2': 34288.0, 'DSC1': 0.7883443999341492, 'DSC2': 0.9282547830144657, 'vol_gt1': 14889.0, 'vol_gt2': 16738.0}, {'PatientID': '22', 'TP1': 987.0, 'TP2': 0.0, 'vol_sum1': 4600.5, 'vol_sum2': 0.0, 'DSC1': 0.42908379523964785, 'DSC2': 0.0, 'vol_gt1': 3613.5, 'vol_gt2': 0.0}, {'PatientID': '190', 'TP1': 0.0, 'TP2': 6368.5, 'vol_sum1': 0.0, 'vol_sum2': 14315.5, 'DSC1': 0.0, 'DSC2': 0.8897349027278125, 'vol_gt1': 0.0, 'vol_gt2': 7251.5}, {'PatientID': '138', 'TP1': 4932.000000000001, 'TP2': 1779.0, 'vol_sum1': 12783.5, 'vol_sum2': 4101.0, 'DSC1': 0.7716196659756719, 'DSC2': 0.8675932699341624, 'vol_gt1': 5933.0, 'vol_gt2': 2027.5}, {'PatientID': '185', 'TP1': 6308.0, 'TP2': 11562.000000000002, 'vol_sum1': 14277.0, 'vol_sum2': 26508.5, 'DSC1': 0.8836590320095258, 'DSC2': 0.8723239715562934, 'vol_gt1': 6798.0, 'vol_gt2': 14387.0}, {'PatientID': '107', 'TP1': 0.0, 'TP2': 1079.5000000000002, 'vol_sum1': 0.0, 'vol_sum2': 3361.5, 'DSC1': 0.0, 'DSC2': 0.6422727948832367, 'vol_gt1': 0.0, 'vol_gt2': 1163.5}, {'PatientID': '29', 'TP1': 0.0, 'TP2': 0.0, 'vol_sum1': 946.6640625, 'vol_sum2': 0.0, 'DSC1': 0.0, 'DSC2': 0.0, 'vol_gt1': 0.0, 'vol_gt2': 0.0}, {'PatientID': '94', 'TP1': 0.0, 'TP2': 1739.5000000000002, 'vol_sum1': 0.0, 'vol_sum2': 6405.5, 'DSC1': 0.0, 'DSC2': 0.5431270002341738, 'vol_gt1': 0.0, 'vol_gt2': 4620.5}, {'PatientID': '112', 'TP1': 7418.500000000001, 'TP2': 5439.5, 'vol_sum1': 19270.5, 'vol_sum2': 12516.5, 'DSC1': 0.7699333177654966, 'DSC2': 0.8691726920464986, 'vol_gt1': 8713.5, 'vol_gt2': 6028.0}, {'PatientID': '81', 'TP1': 62.8510879184544, 'TP2': 4340.216793479934, 'vol_sum1': 10593.900041366147, 'vol_sum2': 9904.8658923342, 'DSC1': 0.011865524060646011, 'DSC2': 0.8763807285546417, 'vol_gt1': 838.014505579392, 'vol_gt2': 4838.369860685461}, {'PatientID': '101', 'TP1': 0.0, 'TP2': 6241.500000000001, 'vol_sum1': 17.0, 'vol_sum2': 14243.5, 'DSC1': 0.0, 'DSC2': 0.8763997612946257, 'vol_gt1': 0.0, 'vol_gt2': 6819.0}, {'PatientID': '114', 'TP1': 2092.7084458774257, 'TP2': 4051.5673526692544, 'vol_sum1': 6905.472307781295, 'vol_sum2': 9709.329174365677, 'DSC1': 0.6061014663745153, 'DSC2': 0.8345720450731239, 'vol_gt1': 3075.0476718621576, 'vol_gt2': 4891.9096763197}, {'PatientID': '196', 'TP1': 0.0, 'TP2': 4663.5, 'vol_sum1': 387.0, 'vol_sum2': 10777.0, 'DSC1': 0.0, 'DSC2': 0.8654542080356314, 'vol_gt1': 0.0, 'vol_gt2': 4970.0}, {'PatientID': '183', 'TP1': 527.0, 'TP2': 0.0, 'vol_sum1': 1632.5, 'vol_sum2': 0.0, 'DSC1': 0.645635528330781, 'DSC2': 0.0, 'vol_gt1': 772.0, 'vol_gt2': 0.0}, {'PatientID': '10', 'TP1': 186.0, 'TP2': 11303.5, 'vol_sum1': 1750.0, 'vol_sum2': 24508.0, 'DSC1': 0.21257142857142858, 'DSC2': 0.9224334911049453, 'vol_gt1': 745.0, 'vol_gt2': 11862.5}, {'PatientID': '31', 'TP1': 0.0, 'TP2': 10979.15393212556, 'vol_sum1': 4746.421046878834, 'vol_sum2': 25040.33899032644, 'DSC1': 0.0, 'DSC2': 0.8769173561401877, 'vol_gt1': 1607.3583780626948, 'vol_gt2': 11599.517448061417}, {'PatientID': '24', 'TP1': 296.5, 'TP2': 1986.5, 'vol_sum1': 930.5, 'vol_sum2': 4551.5, 'DSC1': 0.6372917786136486, 'DSC2': 0.8728990442711194, 'vol_gt1': 539.5, 'vol_gt2': 2099.5}, {'PatientID': '99', 'TP1': 0.0, 'TP2': 43254.5, 'vol_sum1': 4136.5, 'vol_sum2': 95753.5, 'DSC1': 0.0, 'DSC2': 0.9034552261797218, 'vol_gt1': 1696.5, 'vol_gt2': 46632.0}, {'PatientID': '135', 'TP1': 6023.0, 'TP2': 4050.5000000000005, 'vol_sum1': 14406.5, 'vol_sum2': 8957.0, 'DSC1': 0.8361503488008885, 'DSC2': 0.9044322875962935, 'vol_gt1': 7889.0, 'vol_gt2': 4640.0}, {'PatientID': '188', 'TP1': 0.0, 'TP2': 20491.5, 'vol_sum1': 0.0, 'vol_sum2': 45495.5, 'DSC1': 0.0, 'DSC2': 0.9008143662560033, 'vol_gt1': 0.0, 'vol_gt2': 23387.5}, {'PatientID': '177', 'TP1': 0.0, 'TP2': 44945.51131590806, 'vol_sum1': 0.0, 'vol_sum2': 121746.04902515275, 'DSC1': 0.0, 'DSC2': 0.7383485817535205, 'vol_gt1': 0.0, 'vol_gt2': 58815.81529228252}, {'PatientID': '66', 'TP1': 24689.0, 'TP2': 350.5, 'vol_sum1': 58722.0, 'vol_sum2': 872.0, 'DSC1': 0.8408773543135452, 'DSC2': 0.8038990825688074, 'vol_gt1': 25774.5, 'vol_gt2': 383.0}, {'PatientID': '148', 'TP1': 0.0, 'TP2': 1791.25600567595, 'vol_sum1': 0.0, 'vol_sum2': 4635.849688503775, 'DSC1': 0.0, 'DSC2': 0.7727843334170224, 'vol_gt1': 0.0, 'vol_gt2': 2576.8946046566302}, {'PatientID': '47', 'TP1': 0.0, 'TP2': 524.5005002021791, 'vol_sum1': 0.0, 'vol_sum2': 2460.252346277237, 'DSC1': 0.0, 'DSC2': 0.42637943298445286, 'vol_gt1': 0.0, 'vol_gt2': 630.5006012916565}, {'PatientID': '169', 'TP1': 2652.0, 'TP2': 9126.0, 'vol_sum1': 16105.0, 'vol_sum2': 20120.5, 'DSC1': 0.32933871468488046, 'DSC2': 0.9071345145498372, 'vol_gt1': 6114.5, 'vol_gt2': 10175.5}, {'PatientID': '52', 'TP1': 0.0, 'TP2': 4869.795404644688, 'vol_sum1': 0.0, 'vol_sum2': 13322.102820641278, 'DSC1': 0.0, 'DSC2': 0.7310850952297745, 'vol_gt1': 0.0, 'vol_gt2': 5292.294384540965}, {'PatientID': '156', 'TP1': 4297.152159165437, 'TP2': 0.0, 'vol_sum1': 11414.455911412635, 'vol_sum2': 0.0, 'DSC1': 0.752931579484042, 'DSC2': 0.0, 'vol_gt1': 4748.748864949887, 'vol_gt2': 0.0}, {'PatientID': '78', 'TP1': 2033.5, 'TP2': 17031.0, 'vol_sum1': 6734.0, 'vol_sum2': 38013.0, 'DSC1': 0.603950103950104, 'DSC2': 0.8960618735695682, 'vol_gt1': 2213.0, 'vol_gt2': 19238.0}, {'PatientID': '170', 'TP1': 5340.01465499757, 'TP2': 0.0, 'vol_sum1': 13952.941517896876, 'vol_sum2': 0.0, 'DSC1': 0.7654320987654321, 'DSC2': 0.0, 'vol_gt1': 7579.3756393513895, 'vol_gt2': 0.0}, {'PatientID': '165', 'TP1': 0.0, 'TP2': 3002.885311659488, 'vol_sum1': 4242.448434495672, 'vol_sum2': 7094.025571536658, 'DSC1': 0.0, 'DSC2': 0.8465955701394585, 'vol_gt1': 0.0, 'vol_gt2': 3426.5482005912913}, {'PatientID': '74', 'TP1': 2293.5, 'TP2': 1149.5000000000002, 'vol_sum1': 5976.0, 'vol_sum2': 2884.0, 'DSC1': 0.767570281124498, 'DSC2': 0.7971567267683773, 'vol_gt1': 2950.0, 'vol_gt2': 1647.0}, {'PatientID': '61', 'TP1': 1852.5, 'TP2': 2303.5, 'vol_sum1': 7342.5, 'vol_sum2': 5581.5, 'DSC1': 0.5045965270684372, 'DSC2': 0.82540535698289, 'vol_gt1': 2404.5, 'vol_gt2': 2391.5}, {'PatientID': '55', 'TP1': 808.4999999999999, 'TP2': 0.0, 'vol_sum1': 2421.0, 'vol_sum2': 0.0, 'DSC1': 0.6679058240396529, 'DSC2': 0.0, 'vol_gt1': 964.5, 'vol_gt2': 0.0}, {'PatientID': '144', 'TP1': 3302.9999999999995, 'TP2': 2224.5, 'vol_sum1': 16609.0, 'vol_sum2': 6623.5, 'DSC1': 0.39773616713829846, 'DSC2': 0.6716992526609799, 'vol_gt1': 12931.0, 'vol_gt2': 3892.5}, {'PatientID': '151', 'TP1': 3139.0, 'TP2': 8503.5, 'vol_sum1': 9604.0, 'vol_sum2': 20328.5, 'DSC1': 0.653685964181591, 'DSC2': 0.8366087020685246, 'vol_gt1': 4878.0, 'vol_gt2': 11233.0}, {'PatientID': '95', 'TP1': 0.0, 'TP2': 13468.955949056139, 'vol_sum1': 0.0, 'vol_sum2': 33895.031830463864, 'DSC1': 0.0, 'DSC2': 0.7947451423810515, 'vol_gt1': 0.0, 'vol_gt2': 19785.633556524677}, {'PatientID': '80', 'TP1': 1610.5, 'TP2': 0.0, 'vol_sum1': 5525.0, 'vol_sum2': 0.0, 'DSC1': 0.5829864253393665, 'DSC2': 0.0, 'vol_gt1': 1621.0, 'vol_gt2': 0.0}, {'PatientID': '113', 'TP1': 15876.500000000002, 'TP2': 7998.5, 'vol_sum1': 43528.0, 'vol_sum2': 18503.0, 'DSC1': 0.7294844697665871, 'DSC2': 0.8645625033778306, 'vol_gt1': 27449.5, 'vol_gt2': 9514.5}, {'PatientID': '191', 'TP1': 0.0, 'TP2': 11164.5625, 'vol_sum1': 908.375, 'vol_sum2': 30149.99609375, 'DSC1': 0.0, 'DSC2': 0.7406012568150467, 'vol_gt1': 0.0, 'vol_gt2': 17204.9921875}, {'PatientID': '139', 'TP1': 0.0, 'TP2': 29402.0, 'vol_sum1': 0.0, 'vol_sum2': 65158.0, 'DSC1': 0.0, 'DSC2': 0.9024831946959698, 'vol_gt1': 0.0, 'vol_gt2': 33323.0}, {'PatientID': '184', 'TP1': 3295.0264795767475, 'TP2': 19391.888440914237, 'vol_sum1': 9391.582007666824, 'vol_sum2': 51480.860550391786, 'DSC1': 0.7016978559920684, 'DSC2': 0.7533630259320386, 'vol_gt1': 4397.248336220754, 'vol_gt2': 31655.99794826153}, {'PatientID': '17', 'TP1': 3921.2095406902386, 'TP2': 2742.1696877014547, 'vol_sum1': 10512.426408879262, 'vol_sum2': 6197.8156141809195, 'DSC1': 0.746014171833481, 'DSC2': 0.8848826291079812, 'vol_gt1': 4498.508422311597, 'vol_gt2': 3257.7813904398863}, {'PatientID': '118', 'TP1': 0.0, 'TP2': 6448.5, 'vol_sum1': 0.0, 'vol_sum2': 15027.5, 'DSC1': 0.0, 'DSC2': 0.8582265845949093, 'vol_gt1': 0.0, 'vol_gt2': 6713.0}, {'PatientID': '36', 'TP1': 11302.999999999998, 'TP2': 6437.0, 'vol_sum1': 34728.5, 'vol_sum2': 14277.0, 'DSC1': 0.6509351109319435, 'DSC2': 0.9017300553337536, 'vol_gt1': 14802.5, 'vol_gt2': 6962.5}, {'PatientID': '23', 'TP1': 5280.5, 'TP2': 0.0, 'vol_sum1': 14183.5, 'vol_sum2': 0.0, 'DSC1': 0.7445975957979343, 'DSC2': 0.0, 'vol_gt1': 7980.0, 'vol_gt2': 0.0}, {'PatientID': '132', 'TP1': 1110.3692198926944, 'TP2': 0.0, 'vol_sum1': 4498.508422311597, 'vol_sum2': 0.0, 'DSC1': 0.4936610608020699, 'DSC2': 0.0, 'vol_gt1': 3035.474764654242, 'vol_gt2': 0.0}, {'PatientID': '127', 'TP1': 472.9606906700336, 'TP2': 11693.777076559569, 'vol_sum1': 2895.364228134279, 'vol_sum2': 31914.286604806362, 'DSC1': 0.3267020335985853, 'DSC2': 0.7328239682348695, 'vol_gt1': 1070.7215635872346, 'vol_gt2': 19115.227914191113}, {'PatientID': '30', 'TP1': 845.0, 'TP2': 17257.5, 'vol_sum1': 2294.5, 'vol_sum2': 38199.0, 'DSC1': 0.7365439093484419, 'DSC2': 0.9035576847561455, 'vol_gt1': 1071.5, 'vol_gt2': 19457.5}, {'PatientID': '25', 'TP1': 0.0, 'TP2': 0.0, 'vol_sum1': 2319.0, 'vol_sum2': 0.0, 'DSC1': 0.0, 'DSC2': 0.0, 'vol_gt1': 0.0, 'vol_gt2': 0.0}, {'PatientID': '197', 'TP1': 1111.0, 'TP2': 0.0, 'vol_sum1': 3976.0, 'vol_sum2': 0.0, 'DSC1': 0.5588531187122736, 'DSC2': 0.0, 'vol_gt1': 2308.5, 'vol_gt2': 0.0}, {'PatientID': '11', 'TP1': 1440.919385982343, 'TP2': 496.98915817000045, 'vol_sum1': 8236.984244424106, 'vol_sum2': 2141.592625369557, 'DSC1': 0.34986576232867034, 'DSC2': 0.4641304347826087, 'vol_gt1': 2204.4437132880116, 'vol_gt2': 969.5362265939355}, {'PatientID': '93', 'TP1': 1564.5, 'TP2': 1396.5, 'vol_sum1': 4021.5, 'vol_sum2': 5302.0, 'DSC1': 0.7780678851174935, 'DSC2': 0.526782346284421, 'vol_gt1': 2004.5, 'vol_gt2': 1663.0}, {'PatientID': '115', 'TP1': 195.53671796852484, 'TP2': 9243.765560154903, 'vol_sum1': 2838.7741376501904, 'vol_sum2': 24220.94702931548, 'DSC1': 0.13776137761377616, 'DSC2': 0.7632868813070639, 'vol_gt1': 2310.3594355209625, 'vol_gt2': 11701.941443187787}, {'PatientID': '86', 'TP1': 0.0, 'TP2': 4309.999999999999, 'vol_sum1': 1076.5, 'vol_sum2': 21254.0, 'DSC1': 0.0, 'DSC2': 0.40557071610049866, 'vol_gt1': 0.0, 'vol_gt2': 11724.0}, {'PatientID': '142', 'TP1': 3373.0083849570524, 'TP2': 2534.993879377661, 'vol_sum1': 8264.918061276752, 'vol_sum2': 5508.781465148975, 'DSC1': 0.8162230671736376, 'DSC2': 0.9203465032748785, 'vol_gt1': 4136.53271226272, 'vol_gt2': 2625.7787841487616}, {'PatientID': '79', 'TP1': 936.9467735991814, 'TP2': 17393.45662691449, 'vol_sum1': 4205.20334535881, 'vol_sum2': 37878.25565218851, 'DSC1': 0.4456130639357875, 'DSC2': 0.9183874139626352, 'vol_gt1': 1932.0889989747093, 'vol_gt2': 19772.48669553154}, {'PatientID': '157', 'TP1': 2147.7510241270065, 'TP2': 3677.5017535686493, 'vol_sum1': 5655.252696633339, 'vol_sum2': 8456.504032373428, 'DSC1': 0.7595597011626365, 'DSC2': 0.8697451664400165, 'vol_gt1': 2645.7512615919113, 'vol_gt2': 4673.502228498459}, {'PatientID': '46', 'TP1': 0.0, 'TP2': 38914.5, 'vol_sum1': 1403.5, 'vol_sum2': 82547.5, 'DSC1': 0.0, 'DSC2': 0.9428389715012568, 'vol_gt1': 0.0, 'vol_gt2': 41388.5}, {'PatientID': '53', 'TP1': 39.5, 'TP2': 10601.0, 'vol_sum1': 2066.75, 'vol_sum2': 22352.25, 'DSC1': 0.03822426515059876, 'DSC2': 0.9485398561666052, 'vol_gt1': 1229.5, 'vol_gt2': 11321.25}, {'PatientID': '201', 'TP1': 526.0868840581738, 'TP2': 1146.4503999940293, 'vol_sum1': 1858.7627297365125, 'vol_sum2': 2600.172785367169, 'DSC1': 0.5660613650594866, 'DSC2': 0.8818263205013429, 'vol_gt1': 561.0041551239818, 'vol_gt2': 1211.6293059835375}, {'PatientID': '149', 'TP1': 3683.5, 'TP2': 751.4999999999999, 'vol_sum1': 11571.5, 'vol_sum2': 2123.5, 'DSC1': 0.6366503910469689, 'DSC2': 0.7077937367553566, 'vol_gt1': 6263.5, 'vol_gt2': 1301.5}, {'PatientID': '67', 'TP1': 1003.2009866237927, 'TP2': 1942.0819099903667, 'vol_sum1': 2621.442578125075, 'vol_sum2': 6329.286224699203, 'DSC1': 0.7653808593749999, 'DSC2': 0.6136811770059154, 'vol_gt1': 1416.9613935470989, 'vol_gt2': 2381.442342090675}, {'PatientID': '58', 'TP1': 5397.5, 'TP2': 33269.5, 'vol_sum1': 12226.0, 'vol_sum2': 72460.5, 'DSC1': 0.8829543595615901, 'DSC2': 0.9182796144106099, 'vol_gt1': 6217.0, 'vol_gt2': 35191.0}, {'PatientID': '176', 'TP1': 807.5, 'TP2': 1095.5, 'vol_sum1': 2759.0, 'vol_sum2': 3548.5, 'DSC1': 0.585357013410656, 'DSC2': 0.6174439904184867, 'vol_gt1': 1581.0, 'vol_gt2': 2010.0}, {'PatientID': '163', 'TP1': 0.0, 'TP2': 21035.0, 'vol_sum1': 1020.0, 'vol_sum2': 51629.0, 'DSC1': 0.0, 'DSC2': 0.8148521179957001, 'vol_gt1': 1020.0, 'vol_gt2': 28736.5}, {'PatientID': '14', 'TP1': 892.0, 'TP2': 6525.0, 'vol_sum1': 2678.5, 'vol_sum2': 15228.5, 'DSC1': 0.6660444278514094, 'DSC2': 0.8569458580950192, 'vol_gt1': 1228.0, 'vol_gt2': 8072.0}, {'PatientID': '187', 'TP1': 0.0, 'TP2': 10958.0, 'vol_sum1': 0.0, 'vol_sum2': 24738.5, 'DSC1': 0.0, 'DSC2': 0.8859065828566809, 'vol_gt1': 0.0, 'vol_gt2': 11799.0}, {'PatientID': '110', 'TP1': 71.5, 'TP2': 2677.0, 'vol_sum1': 2260.5, 'vol_sum2': 10429.0, 'DSC1': 0.06326034063260341, 'DSC2': 0.5133761626234539, 'vol_gt1': 1202.5, 'vol_gt2': 2955.0}, {'PatientID': '83', 'TP1': 3575.5, 'TP2': 3120.5, 'vol_sum1': 11049.0, 'vol_sum2': 8628.0, 'DSC1': 0.6472078921169336, 'DSC2': 0.723342605470561, 'vol_gt1': 4976.0, 'vol_gt2': 3952.0}, {'PatientID': '105', 'TP1': 0.0, 'TP2': 24708.624915201268, 'vol_sum1': 0.0, 'vol_sum2': 56522.91449229446, 'DSC1': 0.0, 'DSC2': 0.8742870086279678, 'vol_gt1': 0.0, 'vol_gt2': 26134.41348372176}, {'PatientID': '96', 'TP1': 613.5, 'TP2': 203.5, 'vol_sum1': 2580.5, 'vol_sum2': 956.0, 'DSC1': 0.4754892462701027, 'DSC2': 0.42573221757322177, 'vol_gt1': 1701.5, 'vol_gt2': 501.5}, {'PatientID': '131', 'TP1': 2520.5, 'TP2': 9633.5, 'vol_sum1': 8864.5, 'vol_sum2': 21705.5, 'DSC1': 0.568672795983981, 'DSC2': 0.8876552025984197, 'vol_gt1': 6103.0, 'vol_gt2': 11633.0}, {'PatientID': '20', 'TP1': 817.0, 'TP2': 0.0, 'vol_sum1': 3669.0, 'vol_sum2': 465.0, 'DSC1': 0.44535295720904877, 'DSC2': 0.0, 'vol_gt1': 2176.0, 'vol_gt2': 0.0}, {'PatientID': '88', 'TP1': 347.5, 'TP2': 530.0, 'vol_sum1': 7963.0, 'vol_sum2': 1602.0, 'DSC1': 0.08727866382016827, 'DSC2': 0.6616729088639202, 'vol_gt1': 2604.5, 'vol_gt2': 983.0}, {'PatientID': '4', 'TP1': 1075.5, 'TP2': 4232.0, 'vol_sum1': 2997.5, 'vol_sum2': 10083.5, 'DSC1': 0.7175979983319433, 'DSC2': 0.8393910844448852, 'vol_gt1': 1681.0, 'vol_gt2': 4328.0}, {'PatientID': '159', 'TP1': 3708.9999999999995, 'TP2': 487.5, 'vol_sum1': 21599.5, 'vol_sum2': 1684.0, 'DSC1': 0.3434338757841616, 'DSC2': 0.578978622327791, 'vol_gt1': 13235.0, 'vol_gt2': 753.5}, {'PatientID': '77', 'TP1': 547.0372466976587, 'TP2': 0.0, 'vol_sum1': 4945.449491953939, 'vol_sum2': 0.0, 'DSC1': 0.22122852435867266, 'DSC2': 0.0, 'vol_gt1': 2779.414776838317, 'vol_gt2': 0.0}, {'PatientID': '48', 'TP1': 0.0, 'TP2': 2975.5, 'vol_sum1': 0.0, 'vol_sum2': 8357.5, 'DSC1': 0.0, 'DSC2': 0.7120550403828896, 'vol_gt1': 0.0, 'vol_gt2': 4761.5}, {'PatientID': '166', 'TP1': 8285.868423916238, 'TP2': 16022.371783063762, 'vol_sum1': 20453.373481314797, 'vol_sum2': 35479.439129967504, 'DSC1': 0.8102202242075912, 'DSC2': 0.9031919430502247, 'vol_gt1': 10426.297140250268, 'vol_gt2': 17902.08487543976}, {'PatientID': '173', 'TP1': 2715.0, 'TP2': 8205.5, 'vol_sum1': 9079.0, 'vol_sum2': 18682.0, 'DSC1': 0.5980834893710761, 'DSC2': 0.8784391392784499, 'vol_gt1': 4079.5, 'vol_gt2': 9588.0}, {'PatientID': '152', 'TP1': 0.0, 'TP2': 6173.701082630711, 'vol_sum1': 0.0, 'vol_sum2': 16011.302917840832, 'DSC1': 0.0, 'DSC2': 0.771167857395487, 'vol_gt1': 0.0, 'vol_gt2': 9441.19835347819}, {'PatientID': '69', 'TP1': 2798.5, 'TP2': 18929.0, 'vol_sum1': 10982.0, 'vol_sum2': 42724.0, 'DSC1': 0.509652158076853, 'DSC2': 0.8861061698342851, 'vol_gt1': 6567.0, 'vol_gt2': 21874.5}, {'PatientID': '178', 'TP1': 1953.432105071398, 'TP2': 0.0, 'vol_sum1': 5992.206328267675, 'vol_sum2': 0.0, 'DSC1': 0.6519909355778568, 'DSC2': 0.0, 'vol_gt1': 2576.124960809153, 'vol_gt2': 0.0}, {'PatientID': '56', 'TP1': 0.0, 'TP2': 4056.0000000000005, 'vol_sum1': 1786.5, 'vol_sum2': 9826.5, 'DSC1': 0.0, 'DSC2': 0.8255228209433675, 'vol_gt1': 0.0, 'vol_gt2': 5255.5}, {'PatientID': '50', 'TP1': 4197.5, 'TP2': 9014.0, 'vol_sum1': 9705.5, 'vol_sum2': 19353.5, 'DSC1': 0.8649734686517954, 'DSC2': 0.9315110961841527, 'vol_gt1': 5042.0, 'vol_gt2': 9439.0}, {'PatientID': '45', 'TP1': 0.0, 'TP2': 6222.5, 'vol_sum1': 0.0, 'vol_sum2': 14537.0, 'DSC1': 0.0, 'DSC2': 0.8560913530989888, 'vol_gt1': 0.0, 'vol_gt2': 8237.5}, {'PatientID': '154', 'TP1': 0.0, 'TP2': 791.5, 'vol_sum1': 9156.5, 'vol_sum2': 1950.5, 'DSC1': 0.0, 'DSC2': 0.8115867726224045, 'vol_gt1': 0.0, 'vol_gt2': 1076.0}, {'PatientID': '141', 'TP1': 1512.4999999999998, 'TP2': 16206.5, 'vol_sum1': 3880.5, 'vol_sum2': 35714.5, 'DSC1': 0.7795387192372116, 'DSC2': 0.9075585546486721, 'vol_gt1': 1722.5, 'vol_gt2': 17933.0}, {'PatientID': '175', 'TP1': 236.99999999999997, 'TP2': 370.5, 'vol_sum1': 996.5, 'vol_sum2': 1721.0, 'DSC1': 0.4756648268941294, 'DSC2': 0.4305636257989541, 'vol_gt1': 268.5, 'vol_gt2': 489.0}, {'PatientID': '64', 'TP1': 7931.903407941294, 'TP2': 0.0, 'vol_sum1': 18959.10995771892, 'vol_sum2': 0.0, 'DSC1': 0.8367379508458347, 'DSC2': 0.0, 'vol_gt1': 9138.15383402023, 'vol_gt2': 0.0}, {'PatientID': '71', 'TP1': 0.0, 'TP2': 4508.0, 'vol_sum1': 514.5, 'vol_sum2': 12539.0, 'DSC1': 0.0, 'DSC2': 0.7190366057899353, 'vol_gt1': 0.0, 'vol_gt2': 7420.0}, {'PatientID': '108', 'TP1': 348.5, 'TP2': 4924.5, 'vol_sum1': 2749.5, 'vol_sum2': 11531.0, 'DSC1': 0.2535006364793599, 'DSC2': 0.8541323389124967, 'vol_gt1': 1934.0, 'vol_gt2': 6032.0}, {'PatientID': '26', 'TP1': 3762.9999999999995, 'TP2': 2372.5000000000005, 'vol_sum1': 11985.5, 'vol_sum2': 5992.0, 'DSC1': 0.6279254098702598, 'DSC2': 0.7918891855807745, 'vol_gt1': 6080.0, 'vol_gt2': 2499.0}, {'PatientID': '33', 'TP1': 94.5, 'TP2': 907.0, 'vol_sum1': 648.5, 'vol_sum2': 3202.0, 'DSC1': 0.29144178874325366, 'DSC2': 0.5665209244222361, 'vol_gt1': 231.5, 'vol_gt2': 1608.0}, {'PatientID': '2', 'TP1': 1666.9999999999998, 'TP2': 5108.500000000001, 'vol_sum1': 4864.0, 'vol_sum2': 12410.5, 'DSC1': 0.6854440789473684, 'DSC2': 0.8232545022360099, 'vol_gt1': 2068.0, 'vol_gt2': 5669.5}, {'PatientID': '122', 'TP1': 17039.5, 'TP2': 2471.0, 'vol_sum1': 47602.0, 'vol_sum2': 6721.5, 'DSC1': 0.7159152976765683, 'DSC2': 0.7352525477943911, 'vol_gt1': 27436.5, 'vol_gt2': 3477.0}, {'PatientID': '116', 'TP1': 2973.4999999999995, 'TP2': 747.5, 'vol_sum1': 7713.0, 'vol_sum2': 1752.0, 'DSC1': 0.7710359133929728, 'DSC2': 0.853310502283105, 'vol_gt1': 3768.0, 'vol_gt2': 801.0}, {'PatientID': '90', 'TP1': 4856.5, 'TP2': 4727.5, 'vol_sum1': 11887.5, 'vol_sum2': 10985.5, 'DSC1': 0.8170767613038906, 'DSC2': 0.8606799872559282, 'vol_gt1': 6723.5, 'vol_gt2': 5086.5}, {'PatientID': '103', 'TP1': 403.0, 'TP2': 7492.499999999999, 'vol_sum1': 2617.5, 'vol_sum2': 18140.0, 'DSC1': 0.30792741165234, 'DSC2': 0.8260749724366041, 'vol_gt1': 820.0, 'vol_gt2': 7777.0}, {'PatientID': '181', 'TP1': 1024.0, 'TP2': 0.0, 'vol_sum1': 4229.0, 'vol_sum2': 0.0, 'DSC1': 0.4842752423740837, 'DSC2': 0.0, 'vol_gt1': 3047.5, 'vol_gt2': 0.0}, {'PatientID': '12', 'TP1': 278.0, 'TP2': 1548.5, 'vol_sum1': 916.0, 'vol_sum2': 3820.0, 'DSC1': 0.6069868995633187, 'DSC2': 0.8107329842931937, 'vol_gt1': 581.5, 'vol_gt2': 2051.5}, {'PatientID': '194', 'TP1': 6303.731336413871, 'TP2': 1501.442655829744, 'vol_sum1': 16404.133946716596, 'vol_sum2': 4343.708520586515, 'DSC1': 0.7685539946076345, 'DSC2': 0.6913183279742765, 'vol_gt1': 8621.074226147995, 'vol_gt2': 2835.2824105436093}, {'PatientID': '129', 'TP1': 0.0, 'TP2': 0.0, 'vol_sum1': 0.0, 'vol_sum2': 1042.0, 'DSC1': 0.0, 'DSC2': 0.0, 'vol_gt1': 0.0, 'vol_gt2': 845.0}, {'PatientID': '21', 'TP1': 0.0, 'TP2': 0.0, 'vol_sum1': 1321.5, 'vol_sum2': 0.0, 'DSC1': 0.0, 'DSC2': 0.0, 'vol_gt1': 0.0, 'vol_gt2': 0.0}, {'PatientID': '5', 'TP1': 0.0, 'TP2': 1078.9999999999998, 'vol_sum1': 0.0, 'vol_sum2': 4108.5, 'DSC1': 0.0, 'DSC2': 0.5252525252525252, 'vol_gt1': 0.0, 'vol_gt2': 1993.0}, {'PatientID': '34', 'TP1': 0.0, 'TP2': 3402.1061108452254, 'vol_sum1': 0.0, 'vol_sum2': 7439.706555088157, 'DSC1': 0.0, 'DSC2': 0.9145807259073842, 'vol_gt1': 0.0, 'vol_gt2': 3707.0502781532823}, {'PatientID': '198', 'TP1': 2583.5, 'TP2': 852.0000000000001, 'vol_sum1': 6303.0, 'vol_sum2': 1913.0, 'DSC1': 0.8197683642709821, 'DSC2': 0.8907475169890225, 'vol_gt1': 2759.0, 'vol_gt2': 947.5}, {'PatientID': '125', 'TP1': 540.0, 'TP2': 35055.0, 'vol_sum1': 2208.0, 'vol_sum2': 75142.0, 'DSC1': 0.4891304347826087, 'DSC2': 0.933033456655399, 'vol_gt1': 1421.5, 'vol_gt2': 35928.0}, {'PatientID': '130', 'TP1': 5945.500000000001, 'TP2': 1177.4999999999998, 'vol_sum1': 17207.0, 'vol_sum2': 3487.0, 'DSC1': 0.6910559655953973, 'DSC2': 0.6753656438199024, 'vol_gt1': 6479.0, 'vol_gt2': 1404.0}, {'PatientID': '82', 'TP1': 483.49999999999994, 'TP2': 5830.0, 'vol_sum1': 1877.0, 'vol_sum2': 13492.5, 'DSC1': 0.5151838039424613, 'DSC2': 0.8641838058180471, 'vol_gt1': 1314.0, 'vol_gt2': 7084.5}, {'PatientID': '111', 'TP1': 543.0, 'TP2': 21078.5, 'vol_sum1': 2841.5, 'vol_sum2': 45249.5, 'DSC1': 0.3821925039591765, 'DSC2': 0.9316567033889878, 'vol_gt1': 1652.0, 'vol_gt2': 23086.5}, {'PatientID': '104', 'TP1': 6029.500000000001, 'TP2': 2950.0, 'vol_sum1': 29628.0, 'vol_sum2': 7223.5, 'DSC1': 0.4070136357499663, 'DSC2': 0.8167785699453174, 'vol_gt1': 6790.0, 'vol_gt2': 3147.5}, {'PatientID': '193', 'TP1': 673.5, 'TP2': 4686.5, 'vol_sum1': 2514.0, 'vol_sum2': 10458.5, 'DSC1': 0.535799522673031, 'DSC2': 0.8962088253573648, 'vol_gt1': 829.5, 'vol_gt2': 4875.5}, {'PatientID': '57', 'TP1': 1953.0393616141941, 'TP2': 2880.6748629291596, 'vol_sum1': 7253.481109403849, 'vol_sum2': 7353.577286459164, 'DSC1': 0.5385109114249037, 'DSC2': 0.7834757834757835, 'vol_gt1': 2913.2643159239137, 'vol_gt2': 4257.579251957522}, {'PatientID': '179', 'TP1': 0.0, 'TP2': 0.0, 'vol_sum1': 411.0, 'vol_sum2': 0.0, 'DSC1': 0.0, 'DSC2': 0.0, 'vol_gt1': 411.0, 'vol_gt2': 0.0}, {'PatientID': '42', 'TP1': 0.0, 'TP2': 0.0, 'vol_sum1': 1862.3982793807456, 'vol_sum2': 0.0, 'DSC1': 0.0, 'DSC2': 0.0, 'vol_gt1': 0.0, 'vol_gt2': 0.0}, {'PatientID': '153', 'TP1': 1372.5, 'TP2': 8701.0, 'vol_sum1': 4309.0, 'vol_sum2': 19377.5, 'DSC1': 0.6370387560919006, 'DSC2': 0.8980518642755774, 'vol_gt1': 2611.0, 'vol_gt2': 9123.0}, {'PatientID': '146', 'TP1': 89.5, 'TP2': 11008.0, 'vol_sum1': 1190.0, 'vol_sum2': 27836.5, 'DSC1': 0.15042016806722688, 'DSC2': 0.7909040288829414, 'vol_gt1': 497.5, 'vol_gt2': 15834.5}, {'PatientID': '49', 'TP1': 1449.9999999999998, 'TP2': 23849.5, 'vol_sum1': 8290.5, 'vol_sum2': 55141.0, 'DSC1': 0.3497979615222242, 'DSC2': 0.8650369053880053, 'vol_gt1': 1797.5, 'vol_gt2': 29116.5}, {'PatientID': '172', 'TP1': 2092.4800623607634, 'TP2': 991.3600295448305, 'vol_sum1': 5614.0801673126225, 'vol_sum2': 4868.480145092011, 'DSC1': 0.7454400364797081, 'DSC2': 0.40725647429998685, 'vol_gt1': 2592.3200772571568, 'vol_gt2': 3849.2801147174846}, {'PatientID': '63', 'TP1': 1427.4999999999998, 'TP2': 10750.5, 'vol_sum1': 4199.5, 'vol_sum2': 25208.0, 'DSC1': 0.6798428384331467, 'DSC2': 0.8529435099968264, 'vol_gt1': 1976.0, 'vol_gt2': 11709.5}, {'PatientID': '158', 'TP1': 0.0, 'TP2': 2520.5, 'vol_sum1': 403.0, 'vol_sum2': 8100.5, 'DSC1': 0.0, 'DSC2': 0.622307264983643, 'vol_gt1': 403.0, 'vol_gt2': 2989.0}, {'PatientID': '70', 'TP1': 3172.5, 'TP2': 3746.0000000000005, 'vol_sum1': 11564.5, 'vol_sum2': 8563.5, 'DSC1': 0.5486618530848718, 'DSC2': 0.8748759268990484, 'vol_gt1': 8384.0, 'vol_gt2': 4661.5}, {'PatientID': '161', 'TP1': 1045.5, 'TP2': 10798.500000000002, 'vol_sum1': 12134.5, 'vol_sum2': 27557.5, 'DSC1': 0.17231859573942065, 'DSC2': 0.7837067948834257, 'vol_gt1': 3154.5, 'vol_gt2': 16167.0}, {'PatientID': '174', 'TP1': 0.0, 'TP2': 5626.0, 'vol_sum1': 1603.5, 'vol_sum2': 16918.5, 'DSC1': 0.0, 'DSC2': 0.6650707805065461, 'vol_gt1': 0.0, 'vol_gt2': 6681.5}, {'PatientID': '155', 'TP1': 1998.5, 'TP2': 2056.0, 'vol_sum1': 5698.0, 'vol_sum2': 7360.0, 'DSC1': 0.7014742014742015, 'DSC2': 0.558695652173913, 'vol_gt1': 2494.0, 'vol_gt2': 4772.5}, {'PatientID': '44', 'TP1': 767.2500166296959, 'TP2': 10467.050226867199, 'vol_sum1': 3020.050065457821, 'vol_sum2': 24140.600523233414, 'DSC1': 0.508104170460754, 'DSC2': 0.8671739724779003, 'vol_gt1': 955.9000207185745, 'vol_gt2': 11066.00023984909}, {'PatientID': '13', 'TP1': 655.0, 'TP2': 3566.5, 'vol_sum1': 2297.0, 'vol_sum2': 8116.5, 'DSC1': 0.5703090988245537, 'DSC2': 0.8788270806382061, 'vol_gt1': 1196.5, 'vol_gt2': 4387.5}, {'PatientID': '180', 'TP1': 2971.9999999999995, 'TP2': 19041.5, 'vol_sum1': 7721.0, 'vol_sum2': 45613.5, 'DSC1': 0.7698484652247117, 'DSC2': 0.834906332555055, 'vol_gt1': 4315.0, 'vol_gt2': 21564.5}, {'PatientID': '195', 'TP1': 0.0, 'TP2': 62331.0, 'vol_sum1': 2228.5, 'vol_sum2': 133627.0, 'DSC1': 0.0, 'DSC2': 0.9329102651410269, 'vol_gt1': 2205.5, 'vol_gt2': 66516.5}, {'PatientID': '84', 'TP1': 651.7890598950827, 'TP2': 6655.231865143003, 'vol_sum1': 1890.1882736957396, 'vol_sum2': 18354.845490259737, 'DSC1': 0.6896551724137931, 'DSC2': 0.7251743817374762, 'vol_gt1': 1094.0744933953172, 'vol_gt2': 11550.633268569285}, {'PatientID': '8', 'TP1': 0.0, 'TP2': 10037.5, 'vol_sum1': 0.0, 'vol_sum2': 24291.5, 'DSC1': 0.0, 'DSC2': 0.8264207644649363, 'vol_gt1': 0.0, 'vol_gt2': 13020.5}, {'PatientID': '39', 'TP1': 1332.6758456783384, 'TP2': 17257.27926975784, 'vol_sum1': 3771.0652751072635, 'vol_sum2': 39499.580938677536, 'DSC1': 0.70679012345679, 'DSC2': 0.8737955623655597, 'vol_gt1': 1670.2094659811492, 'vol_gt2': 18623.708477466458}, {'PatientID': '91', 'TP1': 168.74999195337304, 'TP2': 1127.0832795898125, 'vol_sum1': 1954.1665734847397, 'vol_sum2': 5372.221966054707, 'DSC1': 0.17270788912579957, 'DSC2': 0.41959669079627715, 'vol_gt1': 829.8610715402502, 'vol_gt2': 4130.55535859532}, {'PatientID': '136', 'TP1': 0.0, 'TP2': 6299.999999999999, 'vol_sum1': 0.0, 'vol_sum2': 15449.5, 'DSC1': 0.0, 'DSC2': 0.8155603741221398, 'vol_gt1': 0.0, 'vol_gt2': 6765.0}, {'PatientID': '18', 'TP1': 0.0, 'TP2': 2701.0, 'vol_sum1': 0.0, 'vol_sum2': 8682.5, 'DSC1': 0.0, 'DSC2': 0.6221710336884538, 'vol_gt1': 0.0, 'vol_gt2': 2729.0}, {'PatientID': '27', 'TP1': 5043.0, 'TP2': 11337.0, 'vol_sum1': 12355.5, 'vol_sum2': 28447.5, 'DSC1': 0.8163166201286877, 'DSC2': 0.7970471921961508, 'vol_gt1': 5947.0, 'vol_gt2': 11670.5}, {'PatientID': '109', 'TP1': 301.00000000000006, 'TP2': 5189.5, 'vol_sum1': 1531.0, 'vol_sum2': 12083.5, 'DSC1': 0.3932070542129328, 'DSC2': 0.858939876691356, 'vol_gt1': 464.5, 'vol_gt2': 6055.5}, {'PatientID': '32', 'TP1': 2120.642262730072, 'TP2': 8868.986850715231, 'vol_sum1': 7107.992479962981, 'vol_sum2': 19211.48254040756, 'DSC1': 0.5966923202881939, 'DSC2': 0.9233006179571065, 'vol_gt1': 4333.233339266772, 'vol_gt2': 9127.374656602211}, {'PatientID': '3', 'TP1': 4175.0, 'TP2': 4048.75, 'vol_sum1': 15751.25, 'vol_sum2': 10129.375, 'DSC1': 0.5301166574081422, 'DSC2': 0.7994076633553403, 'vol_gt1': 6774.375, 'vol_gt2': 5169.375}] \n",
      "\n",
      "Aggregate dice scores: {'AggregatedDsc': {'GTVp': 0.6231807042802565, 'GTVn': 0.8446994183666858, 'mean': 0.7339400613234712}}\n",
      "\n"
     ]
    }
   ],
   "source": [
    "# Display raw results\n",
    "print(\"The raw results are:\", results, \"\\n\")\n",
    "\n",
    "# Compute and display aggregate dice scores\n",
    "agg_dice_scores = compute_agg_dice(results)\n",
    "print(f\"Aggregate dice scores: {agg_dice_scores}\\n\")"
   ]
  },
  {
   "cell_type": "markdown",
   "metadata": {},
   "source": [
    "## Extra: Conventional DSC Calculation"
   ]
  },
  {
   "cell_type": "markdown",
   "metadata": {},
   "source": [
    "Since conventional volumetric DSC was also calculated during the DSCagg calculation, we can also display these values as well just for reference. These metrics will not be used in the challenge directly but may be handy to know."
   ]
  },
  {
   "cell_type": "code",
   "execution_count": null,
   "metadata": {},
   "outputs": [
    {
     "name": "stdout",
     "output_type": "stream",
     "text": [
      "Mean DSC1 (GTVp): 0.41460883182707203\n",
      "Mean DSC2 (GTVn): 0.676514389776771\n",
      "\n",
      "STD DSC1 (GTVp): 0.31586184287354396\n",
      "\n",
      "STD DSC2 (GTVn): 0.3064299744756378\n",
      "\n"
     ]
    }
   ],
   "source": [
    "# Extract DSC1 and DSC2 values\n",
    "DSC1_values = [result[\"DSC1\"] for result in results]\n",
    "DSC2_values = [result[\"DSC2\"] for result in results]\n",
    "\n",
    "# Compute and display mean DSC1 and DSC2\n",
    "mean_DSC1 = np.mean(DSC1_values)\n",
    "mean_DSC2 = np.mean(DSC2_values)\n",
    "std_DSC2 = np.std(DSC2_values)\n",
    "std_DSC1 = np.std(DSC1_values)\n",
    "\n",
    "print(f\"Mean DSC1 (GTVp): {mean_DSC1}\")\n",
    "print(f\"Mean DSC2 (GTVn): {mean_DSC2}\\n\")\n",
    "print(f\"STD DSC1 (GTVp): {std_DSC1}\\n\")\n",
    "print(f\"STD DSC2 (GTVn): {std_DSC2}\\n\")"
   ]
  },
  {
   "cell_type": "markdown",
   "metadata": {},
   "source": [
    "Conventional volumetric DSC may be disproportionately affected by a single false negative/postive result (yielding a DSC of 0). Therefore, it may be more informative to remove instances where the ground truth is empty. The code below removes instances with empty ground truth before computing the mean DSC values.\n",
    "\n",
    "Alternativley, one could use a smoothing term making the DSC of a case without ground truth equal to 1 if there is no false positive, 0 otherwise (we don't implement this here). Again this would still potentially overly penalize false positives (1 voxel false positive treated the same as 1000 voxel false positive)."
   ]
  },
  {
   "cell_type": "code",
   "execution_count": null,
   "metadata": {},
   "outputs": [
    {
     "name": "stdout",
     "output_type": "stream",
     "text": [
      "Removed patient IDs with empty ground truth volumes for DSC1: ['190', '107', '29', '94', '101', '196', '188', '177', '148', '47', '52', '165', '95', '191', '139', '118', '25', '86', '46', '187', '105', '48', '152', '56', '45', '154', '71', '129', '21', '5', '34', '42', '174', '8', '136', '18']\n",
      "Removed patient IDs with empty ground truth volumes for DSC2: ['171', '164', '22', '29', '183', '156', '170', '55', '80', '23', '132', '25', '197', '20', '77', '178', '64', '181', '21', '179', '42'] \n",
      "\n",
      "Mean DSC1 (GTVp) without empty ground truth: 0.5455379366145684\n",
      "Mean DSC2 (GTVn) without empty ground truth: 0.7866446392753151\n",
      "\n",
      "STD DSC1 (GTVp) without empty ground truth: 0.24463813393019146\n",
      "\n",
      "STD DSC2 (GTVn) without empty ground truth: 0.15017288765948106\n",
      "\n"
     ]
    }
   ],
   "source": [
    "# Extract non-zero DSC1 and DSC2 values and print removed patient IDs\n",
    "DSC1_values_nozeros = []\n",
    "DSC2_values_nozeros = []\n",
    "removed_patients_DSC1 = []\n",
    "removed_patients_DSC2 = []\n",
    "\n",
    "for result in results:\n",
    "    patient_id = result[\"PatientID\"]\n",
    "    if result[\"vol_gt1\"] != 0.0:\n",
    "        DSC1_values_nozeros.append(result[\"DSC1\"])\n",
    "    else:\n",
    "        removed_patients_DSC1.append(patient_id)\n",
    "    if result[\"vol_gt2\"] != 0.0:\n",
    "        DSC2_values_nozeros.append(result[\"DSC2\"])\n",
    "    else:\n",
    "        removed_patients_DSC2.append(patient_id)\n",
    "\n",
    "# Print removed patient IDs\n",
    "print(\"Removed patient IDs with empty ground truth volumes for DSC1:\", removed_patients_DSC1)\n",
    "print(\"Removed patient IDs with empty ground truth volumes for DSC2:\", removed_patients_DSC2, \"\\n\")\n",
    "\n",
    "# Compute and display mean non-zero DSC1 and DSC2\n",
    "mean_DSC1_nozeros = np.mean(DSC1_values_nozeros)\n",
    "mean_DSC2_nozeros = np.mean(DSC2_values_nozeros)\n",
    "std_DSC2_nozeros = np.std(DSC2_values_nozeros)\n",
    "std_DSC1_nozeros = np.std(DSC1_values_nozeros)\n",
    "print(f\"Mean DSC1 (GTVp) without empty ground truth: {mean_DSC1_nozeros}\")\n",
    "print(f\"Mean DSC2 (GTVn) without empty ground truth: {mean_DSC2_nozeros}\\n\")\n",
    "print(f\"STD DSC1 (GTVp) without empty ground truth: {std_DSC1_nozeros}\\n\")\n",
    "print(f\"STD DSC2 (GTVn) without empty ground truth: {std_DSC2_nozeros}\\n\")"
   ]
  },
  {
   "cell_type": "markdown",
   "metadata": {},
   "source": [
    "## Saveing the results"
   ]
  },
  {
   "cell_type": "code",
   "execution_count": null,
   "metadata": {},
   "outputs": [],
   "source": [
    "with open(output_json_path, 'r') as file:\n",
    "    output = json.load(file)\n",
    "\n",
    "dice_scores = { \n",
    "    \"Mean DSC1 (GTVp)\": mean_DSC1,\n",
    "    \"Mean DSC2 (GTVn)\": mean_DSC2, \n",
    "    \"STD DSC1 (GTVp)\": std_DSC1,\n",
    "    \"STD DSC2 (GTVn)\": std_DSC2,\n",
    "    \"Mean DSC1 (GTVp) without empty ground truth\": mean_DSC1_nozeros,\n",
    "    \"Mean DSC2 (GTVn) without empty ground truth\": mean_DSC2_nozeros,\n",
    "    \"STD DSC1 (GTVp) without empty ground truth\": std_DSC1_nozeros,\n",
    "    \"STD DSC2 (GTVn) without empty ground truth\": std_DSC2_nozeros\n",
    "}\n",
    "dice_scores.update(agg_dice_scores)\n"
   ]
  },
  {
   "cell_type": "code",
   "execution_count": null,
   "metadata": {},
   "outputs": [],
   "source": [
    "\n",
    "new_data = {\n",
    "    dataset_name : dice_scores\n",
    "}\n",
    "\n",
    "output.update(new_data)\n",
    "with open(output_json_path, 'w') as outfile:\n",
    "    json.dump(output, outfile, indent=4)"
   ]
  },
  {
   "cell_type": "code",
   "execution_count": null,
   "metadata": {},
   "outputs": [],
   "source": []
  }
 ],
 "metadata": {
  "kernelspec": {
   "display_name": "Python 3 (ipykernel)",
   "language": "python",
   "name": "python3"
  },
  "language_info": {
   "codemirror_mode": {
    "name": "ipython",
    "version": 3
   },
   "file_extension": ".py",
   "mimetype": "text/x-python",
   "name": "python",
   "nbconvert_exporter": "python",
   "pygments_lexer": "ipython3",
   "version": "3.9.0"
  }
 },
 "nbformat": 4,
 "nbformat_minor": 2
}
